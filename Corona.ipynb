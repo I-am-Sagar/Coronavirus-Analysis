{
 "cells": [
  {
   "cell_type": "markdown",
   "metadata": {},
   "source": [
    "## Topic - Analyzing Corona Virus\n",
    "\n",
    "Let's start by getting the complete genome of Coronavirus. Source: https://www.ncbi.nlm.nih.gov/nuccore/NC_045512\n",
    "\n",
    "> **Basic Information:** Coronavirus is a single stranded RNA-virus (DNA is double stranded). RNA polymers are made up of nucleotides. These nucleotides have three parts: 1) a five carbon Ribose sugar, 2) a phosphate molecule and 3) one of four nitrogenous bases: adenine(a), guanine(g), cytosine(c) or uracil(u) / thymine(t). \n",
    "\n",
    "<img src=\"./images/parts-of-nucleotide.jpg\" width=\"480\">\n",
    "\n",
    "> Thymine is found in DNA and Uracil in RNA. But for following analysis, you can consider (u) and (t) to be analogous."
   ]
  },
  {
   "cell_type": "code",
   "execution_count": 2,
   "metadata": {},
   "outputs": [],
   "source": [
    "with open('sars_cov2_data/genome/sars_cov2_genome.txt', 'r') as file:\n",
    "    sars_cov2 = file.read()\n",
    "\n",
    "# print(sars_cov2)"
   ]
  },
  {
   "cell_type": "markdown",
   "metadata": {},
   "source": [
    "Now we only want {a, c, t, g} in sars_cov2.  We want to remove the spaces and numbers. Let's do that:"
   ]
  },
  {
   "cell_type": "code",
   "execution_count": 3,
   "metadata": {},
   "outputs": [],
   "source": [
    "for s in \"\\n01234567789 \":\n",
    "    sars_cov2 = sars_cov2.replace(s, \"\")\n",
    "\n",
    "# sars_cov2"
   ]
  },
  {
   "cell_type": "code",
   "execution_count": 4,
   "metadata": {},
   "outputs": [
    {
     "data": {
      "text/plain": [
       "29903"
      ]
     },
     "execution_count": 4,
     "metadata": {},
     "output_type": "execute_result"
    }
   ],
   "source": [
    "len(sars_cov2)"
   ]
  },
  {
   "cell_type": "markdown",
   "metadata": {},
   "source": [
    "### Q. 1 - What is the 'kolmogorov complexity' of the Coronavirus? \n",
    "\n",
    "This question is simply asking - how many bytes of information does it contain. "
   ]
  },
  {
   "cell_type": "code",
   "execution_count": 5,
   "metadata": {},
   "outputs": [
    {
     "data": {
      "text/plain": [
       "8858"
      ]
     },
     "execution_count": 5,
     "metadata": {},
     "output_type": "execute_result"
    }
   ],
   "source": [
    "import zlib\n",
    "len(zlib.compress(sars_cov2.encode(\"utf-8\")))"
   ]
  },
  {
   "cell_type": "markdown",
   "metadata": {},
   "source": [
    "The above result means - The RNA of Coronavirus can contain '8858' bytes of information. This is just an upper-bound. This means - Coronavirus cannot contain more than '8858' bytes of information. Let's see if we can compress it a little more."
   ]
  },
  {
   "cell_type": "code",
   "execution_count": 6,
   "metadata": {},
   "outputs": [
    {
     "data": {
      "text/plain": [
       "8408"
      ]
     },
     "execution_count": 6,
     "metadata": {},
     "output_type": "execute_result"
    }
   ],
   "source": [
    "import lzma\n",
    "lzc = lzma.compress(sars_cov2.encode(\"utf-8\"))\n",
    "len(lzc)"
   ]
  },
  {
   "cell_type": "markdown",
   "metadata": {},
   "source": [
    "This is a better compression. So we can conclude that - Coronavirus approximately contains 8.3 kB of information. \n",
    "\n",
    "### Q. 2 - What type of information does this genome contain? How we can extract it?\n",
    "\n",
    "The genome contains the information about the proteins it can make. These proteins determine the characteristics of the cell in which they are produced. So we need to extract information about the proteins. To extract this info, we must know - how proteins are formed from the genetic material i.e. DNA/RNA.\n",
    "\n",
    "> **Basic Information:** RNAs and DNAs form proteins. This is how proteins are formed from DNA. In DNA, A-T/U and G-C form pairs. This pair formation is because - the chemical structure of A, T/U, G and C is such that - A and T are attracted towards each other by 2 hydrogen bonds and G and C together are attracted by 3 hydrogen bonds. A-C and G-T can't form such stable bonds. \n",
    "\n",
    "<img src=\"./images/AT-GC.jpg\" width=\"480\">\n",
    "\n",
    "> What happens during protein formation is:\n",
    "\n",
    "<img src=\"./images/transcript-translate-cell.jpg\">\n",
    "\n",
    "> An enzyme called 'RNA polymerase' breaks these hydrogen bonds for a small part, takes one strand of DNA and forms its corresponding paired RNA. This process happens inside the nucleus of the cell. We call this RNA generated as 'mRNA' or 'messenger RNA' because this RNA will come out of nucleus and act like a messaage to Ribosome which will generate proteins accordingly. This process of generation of mRNA is called - **Transcription.** Now Ribosome will read the mRNA in sets of 3 bases. This set of 3 bases is called codon. Codons decide the Amino acids. Depending on the codon read by Ribosome, tRNA (transfer-RNA) brings the appropiate amino acid. These amino acids are then linked using peptide bonds to form a chain called *Polypeptide chain*. At the other end of Ribosome, tRNA is free and can go to take another amino acid. \n",
    "\n",
    "> *Note:* Amino acids are organic compounds that contain amine (-NH2) and carboxyl (-COOH) functional groups. There are 20 standard amino acids and 2 non-standard. Of the 20 standard amino acids, nine (His, Ile, Leu, Lys, Met, Phe, Thr, Trp and Val) are called essential amino acids because the human body cannot synthesize them from other compounds at the level needed for normal growth, so they must be obtained from food. Here is the table of codons and their corresponding Amino acids. 'Met' is usually the starting amino acid i.e. 'AUG' forms the start of mRNA. Hence 'AUG' is called *start codon.* 'UAA', 'UGA' and 'UAG' are *stop codons* as they mark the ending of the polypeptide chain, so that a new chain should start from the next codon. \n",
    "\n",
    "<img src=\"./images/genetic-code-table.jpg\" width=\"600\">\n",
    "\n",
    "> This process of generation of chains of amino acids is called - **Translation.** A very long chain of amino acids is called *Protein.* In summary, we can understand the process as:\n",
    "\n",
    "<img src=\"./images/transcription-translation.png\" width=\"600\">\n"
   ]
  },
  {
   "cell_type": "markdown",
   "metadata": {},
   "source": [
    "Now since in Coronavirus, we only has RNA, the process of Transcription won't occur and only Translation will happen. So what we now need to write is - *a translation function*, which takes corona's genome as input and gives back all the polypeptide chains that could be formed from that genome. For that, we first need a dictionary of codons. Following codons' string is copied from 'Genetic code' - Wikipedia."
   ]
  },
  {
   "cell_type": "code",
   "execution_count": 7,
   "metadata": {},
   "outputs": [],
   "source": [
    "# Asn or Asp / B\tAAU, AAC; GAU, GAC\n",
    "# Gln or Glu / Z\tCAA, CAG; GAA, GAG\n",
    "# START\tAUG\n",
    "\n",
    "codons = \"\"\"Ala / A\tGCU, GCC, GCA, GCG\n",
    "Ile / I\tAUU, AUC, AUA\n",
    "Arg / R\tCGU, CGC, CGA, CGG; AGA, AGG, AGR;\n",
    "Leu / L\tCUU, CUC, CUA, CUG; UUA, UUG, UUR;\n",
    "Asn / N\tAAU, AAC\n",
    "Lys / K\tAAA, AAG\n",
    "Asp / D\tGAU, GAC\n",
    "Met / M\tAUG\n",
    "Phe / F\tUUU, UUC\n",
    "Cys / C\tUGU, UGC\n",
    "Pro / P\tCCU, CCC, CCA, CCG\n",
    "Gln / Q\tCAA, CAG\n",
    "Ser / S\tUCU, UCC, UCA, UCG; AGU, AGC;\n",
    "Glu / E\tGAA, GAG\n",
    "Thr / T\tACU, ACC, ACA, ACG\n",
    "Trp / W\tUGG\n",
    "Gly / G\tGGU, GGC, GGA, GGG\n",
    "Tyr / Y\tUAU, UAC\n",
    "His / H\tCAU, CAC\n",
    "Val / V\tGUU, GUC, GUA, GUG\n",
    "STOP\tUAA, UGA, UAG\"\"\".strip()\n",
    "\n",
    "for t in codons.split('\\n'):\n",
    "    t.split('\\t')"
   ]
  },
  {
   "cell_type": "code",
   "execution_count": 8,
   "metadata": {},
   "outputs": [],
   "source": [
    "dec = {}  # Decoder dictionary\n",
    "\n",
    "for t in codons.split('\\n'):\n",
    "    k, v = t.split('\\t')\n",
    "    if '/' in k:\n",
    "        k = k.split('/')[-1].strip()\n",
    "    k = k.replace(\"STOP\", \"*\")\n",
    "    v = v.replace(\",\", \"\").replace(\";\", \"\").lower().replace(\"u\", \"t\").split(\" \")\n",
    "    for vv in v:\n",
    "        if vv in dec:\n",
    "            print(\"duplicate\", vv)\n",
    "        dec[vv] = k\n",
    "\n",
    "# dec"
   ]
  },
  {
   "cell_type": "code",
   "execution_count": 9,
   "metadata": {},
   "outputs": [
    {
     "data": {
      "text/plain": [
       "21"
      ]
     },
     "execution_count": 9,
     "metadata": {},
     "output_type": "execute_result"
    }
   ],
   "source": [
    "len(set(dec.values()))  # We have 21 amino acids in our decoder"
   ]
  },
  {
   "cell_type": "markdown",
   "metadata": {},
   "source": [
    "Now, decoding the genome can result in one of the three possible ways. These 3 ways are called 'reading frames'. \n",
    "\n",
    "<img src=\"./images/reading-frames.png\" width=\"480\">"
   ]
  },
  {
   "cell_type": "code",
   "execution_count": 10,
   "metadata": {},
   "outputs": [],
   "source": [
    "def translation(x, isProtein = False):\n",
    "    aa = []\n",
    "    for i in range(0, len(x)-2, 3):\n",
    "        aa.append(dec[x[i:i+3]])\n",
    "    aa = ''.join(aa)\n",
    "    if isProtein:\n",
    "        if aa[0] != \"M\" or aa[-1] != \"*\":\n",
    "            print(\"BAD PROTEIN!\")\n",
    "            return None\n",
    "        aa = aa[:-1]\n",
    "    return aa\n",
    "\n",
    "aa = translation(sars_cov2[0:]) + translation(sars_cov2[1:]) + translation(sars_cov2[2:])"
   ]
  },
  {
   "cell_type": "code",
   "execution_count": 11,
   "metadata": {},
   "outputs": [],
   "source": [
    "polypeptides = aa.split(\"*\")\n",
    "# polypeptides"
   ]
  },
  {
   "cell_type": "code",
   "execution_count": 12,
   "metadata": {},
   "outputs": [
    {
     "data": {
      "text/plain": [
       "1777"
      ]
     },
     "execution_count": 12,
     "metadata": {},
     "output_type": "execute_result"
    }
   ],
   "source": [
    "len(polypeptides)"
   ]
  },
  {
   "cell_type": "code",
   "execution_count": 13,
   "metadata": {
    "scrolled": true
   },
   "outputs": [],
   "source": [
    "long_polypep_chains = list(filter(lambda x: len(x) > 100, aa.split(\"*\")))\n",
    "# long_polypep_chains"
   ]
  },
  {
   "cell_type": "code",
   "execution_count": 14,
   "metadata": {},
   "outputs": [
    {
     "data": {
      "text/plain": [
       "10"
      ]
     },
     "execution_count": 14,
     "metadata": {},
     "output_type": "execute_result"
    }
   ],
   "source": [
    "len(long_polypep_chains)"
   ]
  },
  {
   "cell_type": "markdown",
   "metadata": {},
   "source": [
    "This is the genome organisation of Sars-Cov-2. _(Genome organisation is the linear order of genetic material (DNA/RNA) and its division into segments performing some specific function.)_ \n",
    "\n",
    "> Note: ORF stands for 'Open Reading Frame', the reading frame in which protein starts with M and ends with *.\n",
    "\n",
    "Source: https://en.wikipedia.org/wiki/Severe_acute_respiratory_syndrome_coronavirus_2#Phylogenetics_and_taxonomy\n",
    "\n",
    "<img src=\"./images/SARS-CoV-2-genome.png\" width=\"900\">\n",
    "\n",
    "Let's see if we can extract all the segments as mentioned here. We will refer to the following source again. Source: https://www.ncbi.nlm.nih.gov/nuccore/NC_045512\n",
    "\n",
    "Also, if you will see the following genome organisation of Sars-Cov (old coronavirus), you will notice - the structure is very similar to Sars-CoV-2. _(Ignore the detailing given in the structure.)_\n",
    "\n",
    "<img src=\"./images/SARS-CoV-1-genome.png\" width=\"800\">"
   ]
  },
  {
   "cell_type": "code",
   "execution_count": 15,
   "metadata": {},
   "outputs": [],
   "source": [
    "# https://www.ncbi.nlm.nih.gov/protein/1802476803 -  \n",
    "# Orf1a polyprotein, found in Sars-Cov-2 (new Covid 19)\n",
    "orf1a_v2 = translation(sars_cov2[265:13483], True)\n",
    "\n",
    "# orf1a_v2"
   ]
  },
  {
   "cell_type": "code",
   "execution_count": 16,
   "metadata": {},
   "outputs": [],
   "source": [
    "# https://www.uniprot.org/uniprot/A7J8L3\n",
    "# Orf1a polyprotein, found in Sars-Cov\n",
    "with open('sars_cov_data/proteins/orf1a.txt', 'r') as file:\n",
    "    orf1a_v1 = file.read().replace('\\n', '')\n",
    "\n",
    "# orf1a_v1"
   ]
  },
  {
   "cell_type": "code",
   "execution_count": 17,
   "metadata": {},
   "outputs": [
    {
     "data": {
      "text/plain": [
       "(4382, 4405)"
      ]
     },
     "execution_count": 17,
     "metadata": {},
     "output_type": "execute_result"
    }
   ],
   "source": [
    "len(orf1a_v1), len(orf1a_v2)"
   ]
  },
  {
   "cell_type": "markdown",
   "metadata": {},
   "source": [
    "Usually orf1b is not studied alone but along with orf1a. So we need to look at 'orf1ab'. But just to prove that the length of orf1b is 2595, here is just finding the length of orf1b in SARS-CoV-2."
   ]
  },
  {
   "cell_type": "code",
   "execution_count": 18,
   "metadata": {},
   "outputs": [
    {
     "data": {
      "text/plain": [
       "2595"
      ]
     },
     "execution_count": 18,
     "metadata": {},
     "output_type": "execute_result"
    }
   ],
   "source": [
    "# For orf1b_v1, refer - https://www.uniprot.org/uniprot/A0A0A0QGJ0\n",
    "orf1b_v2 = translation(sars_cov2[13467:21555])\n",
    "\n",
    "# Length calculated from first 'M'. The last base is *, so extra -1 for that. \n",
    "len(orf1b_v2) - orf1b_v2.find('M') - 1   "
   ]
  },
  {
   "cell_type": "code",
   "execution_count": 19,
   "metadata": {},
   "outputs": [],
   "source": [
    "# https://www.ncbi.nlm.nih.gov/protein/1796318597 - \n",
    "# Orf1ab polyprotein - found in Sars-cov-2\n",
    "orf1ab_v2 = translation(sars_cov2[265:13468]) + translation(sars_cov2[13467:21555])"
   ]
  },
  {
   "cell_type": "code",
   "execution_count": 20,
   "metadata": {},
   "outputs": [],
   "source": [
    "# https://www.uniprot.org/uniprot/A7J8L2\n",
    "# Orf1ab polyprotein - found in Sars-cov\n",
    "\n",
    "with open('sars_cov_data/proteins/orf1ab.txt', 'r') as file:\n",
    "    orf1ab_v1 = file.read().replace('\\n', '')"
   ]
  },
  {
   "cell_type": "code",
   "execution_count": 21,
   "metadata": {},
   "outputs": [
    {
     "data": {
      "text/plain": [
       "(7097, 7073)"
      ]
     },
     "execution_count": 21,
     "metadata": {},
     "output_type": "execute_result"
    }
   ],
   "source": [
    "len(orf1ab_v2), len(orf1ab_v1)"
   ]
  },
  {
   "cell_type": "markdown",
   "metadata": {},
   "source": [
    "So by now, we have extracted Orf1a and Orf1b RNA segments. "
   ]
  },
  {
   "cell_type": "code",
   "execution_count": 22,
   "metadata": {},
   "outputs": [],
   "source": [
    "# https://www.ncbi.nlm.nih.gov/protein/1796318598\n",
    "# Spike glycoprotein - found in Sars-cov-2\n",
    "\n",
    "spike_v2 = translation(sars_cov2[21562:25384], True)"
   ]
  },
  {
   "cell_type": "code",
   "execution_count": 23,
   "metadata": {},
   "outputs": [],
   "source": [
    "# https://www.uniprot.org/uniprot/P59594\n",
    "# Spike glycoprotein - found in Sars-cov\n",
    "\n",
    "with open('sars_cov_data/proteins/spike.txt', 'r') as file:\n",
    "    spike_v1 = file.read().replace('\\n', '')"
   ]
  },
  {
   "cell_type": "code",
   "execution_count": 24,
   "metadata": {},
   "outputs": [
    {
     "data": {
      "text/plain": [
       "(1273, 1255)"
      ]
     },
     "execution_count": 24,
     "metadata": {},
     "output_type": "execute_result"
    }
   ],
   "source": [
    "len(spike_v2), len(spike_v1)"
   ]
  },
  {
   "cell_type": "code",
   "execution_count": 25,
   "metadata": {},
   "outputs": [],
   "source": [
    "# https://www.ncbi.nlm.nih.gov/gene/43740569\n",
    "# orf3a protein found in Sars-cov-2.\n",
    "\n",
    "orf3a_v2 = translation(sars_cov2[25392:26220], True)"
   ]
  },
  {
   "cell_type": "code",
   "execution_count": 26,
   "metadata": {},
   "outputs": [],
   "source": [
    "# https://www.uniprot.org/uniprot/J9TEM7\n",
    "\n",
    "with open('sars_cov_data/proteins/orf3a.txt', 'r') as file:\n",
    "    orf3a_v1 = file.read().replace('\\n', '')"
   ]
  },
  {
   "cell_type": "code",
   "execution_count": 27,
   "metadata": {},
   "outputs": [
    {
     "data": {
      "text/plain": [
       "(275, 274)"
      ]
     },
     "execution_count": 27,
     "metadata": {},
     "output_type": "execute_result"
    }
   ],
   "source": [
    "len(orf3a_v2), len(orf3a_v1)"
   ]
  },
  {
   "cell_type": "markdown",
   "metadata": {},
   "source": [
    "By now, you must have seen that there is a very little change in the corresponding protein lengths of SARS-CoV and SARS-CoV-2. So, **Can we say - there isn't much difference between the proteins of two viruses?** And the answer is - **NO!** \n",
    "\n",
    "This is because - length of the proteins is not the accurate measure of how dissimilar they are. So now we have another question.\n",
    "\n",
    "### Q. 3 How much different is the protein of this novel coronavirus as compared to the older one?\n",
    "\n",
    "The answer is - **The Edit Distance.** In computational linguistics and computer science, edit distance is a way of quantifying how dissimilar two strings (e.g., words) are to one another by counting the minimum number of operations required to transform one string into the other. In bioinformatics, it can be used to quantify the similarity of DNA sequences, which can be viewed as strings of the letters A, C, G and T. \n",
    "\n",
    "Source: https://en.wikipedia.org/wiki/Edit_distance\n",
    "\n",
    "Let's calculate the edit distance of the genomes of the two versions of coronaviruses. \n",
    "\n",
    "Source of complete genome of old coronavirus: https://www.ncbi.nlm.nih.gov/nuccore/30271926"
   ]
  },
  {
   "cell_type": "code",
   "execution_count": 28,
   "metadata": {},
   "outputs": [],
   "source": [
    "with open('sars_cov_data/genome/sars_cov_genome.txt', 'r') as file:\n",
    "    sars_cov = file.read()\n",
    "\n",
    "# print(sars_cov)"
   ]
  },
  {
   "cell_type": "code",
   "execution_count": 29,
   "metadata": {},
   "outputs": [],
   "source": [
    "for s in \"\\n01234567789 \":\n",
    "    sars_cov = sars_cov.replace(s, \"\")"
   ]
  },
  {
   "cell_type": "code",
   "execution_count": 30,
   "metadata": {},
   "outputs": [
    {
     "data": {
      "text/plain": [
       "8412"
      ]
     },
     "execution_count": 30,
     "metadata": {},
     "output_type": "execute_result"
    }
   ],
   "source": [
    "import lzma\n",
    "lzc_v1 = lzma.compress(sars_cov.encode(\"utf-8\"))\n",
    "len(lzc_v1)"
   ]
  },
  {
   "cell_type": "code",
   "execution_count": 31,
   "metadata": {},
   "outputs": [
    {
     "data": {
      "text/plain": [
       "4"
      ]
     },
     "execution_count": 31,
     "metadata": {},
     "output_type": "execute_result"
    }
   ],
   "source": [
    "len(lzc_v1) - len(lzc)"
   ]
  },
  {
   "cell_type": "markdown",
   "metadata": {},
   "source": [
    "By looking at the kolmogorov complexity of the old coronavirus, you can comment that both coronaviruses differ by about 4 bytes of information. But here is the reality:\n",
    "\n",
    "(Since my PC hangs in executing the following command, I am posting the screenshot of it which I executed on google colab.)\n",
    "\n",
    "![](./images/edit-distance.png)\n",
    "\n",
    "And here is what happens when you compare the lengths:"
   ]
  },
  {
   "cell_type": "code",
   "execution_count": 32,
   "metadata": {},
   "outputs": [
    {
     "data": {
      "text/plain": [
       "152"
      ]
     },
     "execution_count": 32,
     "metadata": {},
     "output_type": "execute_result"
    }
   ],
   "source": [
    "len(sars_cov2) - len(sars_cov)"
   ]
  },
  {
   "cell_type": "markdown",
   "metadata": {},
   "source": [
    "From this, we can see that - Novel coronavirus differ alot than expected from old coronavirus. Now that we know - the difference between two DNAs/RNAs is measured by calculating edit-distance, we can now just simply complete extracting other proteins. "
   ]
  },
  {
   "cell_type": "code",
   "execution_count": 33,
   "metadata": {},
   "outputs": [],
   "source": [
    "# https://www.ncbi.nlm.nih.gov/gene/43740570 - Envelope protein in Cov-2\n",
    "envelope_v2 = translation(sars_cov2[26244:26472], True)"
   ]
  },
  {
   "cell_type": "code",
   "execution_count": 34,
   "metadata": {},
   "outputs": [
    {
     "data": {
      "text/plain": [
       "75"
      ]
     },
     "execution_count": 34,
     "metadata": {},
     "output_type": "execute_result"
    }
   ],
   "source": [
    "len(envelope_v2)"
   ]
  },
  {
   "cell_type": "code",
   "execution_count": 35,
   "metadata": {},
   "outputs": [],
   "source": [
    "# https://www.ncbi.nlm.nih.gov/gene/43740571 - Membrane Glycoprotein in Cov-2\n",
    "membrane_v2 = translation(sars_cov2[26522:27191], True)"
   ]
  },
  {
   "cell_type": "code",
   "execution_count": 36,
   "metadata": {},
   "outputs": [
    {
     "data": {
      "text/plain": [
       "222"
      ]
     },
     "execution_count": 36,
     "metadata": {},
     "output_type": "execute_result"
    }
   ],
   "source": [
    "len(membrane_v2)"
   ]
  },
  {
   "cell_type": "code",
   "execution_count": 37,
   "metadata": {},
   "outputs": [],
   "source": [
    "# https://www.ncbi.nlm.nih.gov/gene/43740572 - Orf6 in Cov-2\n",
    "orf6_v2 = translation(sars_cov2[27201:27387], True)"
   ]
  },
  {
   "cell_type": "code",
   "execution_count": 38,
   "metadata": {},
   "outputs": [
    {
     "data": {
      "text/plain": [
       "61"
      ]
     },
     "execution_count": 38,
     "metadata": {},
     "output_type": "execute_result"
    }
   ],
   "source": [
    "len(orf6_v2)"
   ]
  },
  {
   "cell_type": "code",
   "execution_count": 39,
   "metadata": {},
   "outputs": [],
   "source": [
    "# https://www.ncbi.nlm.nih.gov/gene/43740573 - orf7a in Cov-2\n",
    "orf7a = translation(sars_cov2[27393:27759], True)"
   ]
  },
  {
   "cell_type": "code",
   "execution_count": 40,
   "metadata": {},
   "outputs": [
    {
     "data": {
      "text/plain": [
       "121"
      ]
     },
     "execution_count": 40,
     "metadata": {},
     "output_type": "execute_result"
    }
   ],
   "source": [
    "len(orf7a)"
   ]
  },
  {
   "cell_type": "code",
   "execution_count": 41,
   "metadata": {},
   "outputs": [],
   "source": [
    "# https://www.ncbi.nlm.nih.gov/gene/43740574 - orf7b in Cov-2\n",
    "orf7b = translation(sars_cov2[27755:27887], True)"
   ]
  },
  {
   "cell_type": "code",
   "execution_count": 42,
   "metadata": {},
   "outputs": [
    {
     "data": {
      "text/plain": [
       "43"
      ]
     },
     "execution_count": 42,
     "metadata": {},
     "output_type": "execute_result"
    }
   ],
   "source": [
    "len(orf7b)"
   ]
  },
  {
   "cell_type": "code",
   "execution_count": 43,
   "metadata": {},
   "outputs": [],
   "source": [
    "# https://www.ncbi.nlm.nih.gov/gene/43740577 - orf8 in Cov-2\n",
    "orf8 = translation(sars_cov2[27893:28259], True)"
   ]
  },
  {
   "cell_type": "code",
   "execution_count": 44,
   "metadata": {},
   "outputs": [
    {
     "data": {
      "text/plain": [
       "121"
      ]
     },
     "execution_count": 44,
     "metadata": {},
     "output_type": "execute_result"
    }
   ],
   "source": [
    "len(orf8)"
   ]
  },
  {
   "cell_type": "code",
   "execution_count": 45,
   "metadata": {},
   "outputs": [],
   "source": [
    "# https://www.ncbi.nlm.nih.gov/gene/43740576 - orf10 in Cov-2\n",
    "orf10 = translation(sars_cov2[29557:29674], True)"
   ]
  },
  {
   "cell_type": "code",
   "execution_count": 46,
   "metadata": {
    "scrolled": true
   },
   "outputs": [
    {
     "data": {
      "text/plain": [
       "38"
      ]
     },
     "execution_count": 46,
     "metadata": {},
     "output_type": "execute_result"
    }
   ],
   "source": [
    "len(orf10)"
   ]
  },
  {
   "cell_type": "code",
   "execution_count": 53,
   "metadata": {},
   "outputs": [
    {
     "data": {
      "application/vnd.jupyter.widget-view+json": {
       "model_id": "a069deb1aa004cf6aa3e4482a4544667",
       "version_major": 2,
       "version_minor": 0
      },
      "text/plain": [
       "NGLWidget()"
      ]
     },
     "metadata": {},
     "output_type": "display_data"
    }
   ],
   "source": [
    "# Run following command on terminal (without quotes):\n",
    "# !pip install nglview\n",
    "# \"jupyter-nbextension enable nglview --py --sys-prefix\"\n",
    "\n",
    "import nglview as nv\n",
    "view = nv.show_pdbid(\"3pqr\")\n",
    "view\n",
    "\n",
    "# Visualizing "
   ]
  },
  {
   "cell_type": "code",
   "execution_count": null,
   "metadata": {},
   "outputs": [],
   "source": []
  }
 ],
 "metadata": {
  "kernelspec": {
   "display_name": "Python 3",
   "language": "python",
   "name": "python3"
  },
  "language_info": {
   "codemirror_mode": {
    "name": "ipython",
    "version": 3
   },
   "file_extension": ".py",
   "mimetype": "text/x-python",
   "name": "python",
   "nbconvert_exporter": "python",
   "pygments_lexer": "ipython3",
   "version": "3.7.6"
  }
 },
 "nbformat": 4,
 "nbformat_minor": 4
}
