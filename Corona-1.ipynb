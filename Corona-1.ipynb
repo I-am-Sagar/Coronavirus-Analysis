{
 "cells": [
  {
   "cell_type": "markdown",
   "metadata": {},
   "source": [
    "## Topic - Analyzing Corona Virus\n",
    "\n",
    "Let's start by getting the complete genome of Coronavirus. Source: https://www.ncbi.nlm.nih.gov/nuccore/NC_045512\n",
    "\n",
    "> **Basic Information:** Coronavirus is a single stranded RNA-virus (DNA is double stranded). RNA polymers are made up of nucleotides. These nucleotides have three parts: 1) a five carbon Ribose sugar, 2) a phosphate molecule and 3) one of four nitrogenous bases: adenine(a), guanine(g), cytosine(c) or uracil(u) / thymine(t). \n",
    "\n",
    "<img src=\"./images/parts-of-nucleotide.jpg\" width=\"480\">\n",
    "\n",
    "> Thymine is found in DNA and Uracil in RNA. But for following analysis, you can consider (u) and (t) to be analogous."
   ]
  },
  {
   "cell_type": "code",
   "execution_count": 2,
   "metadata": {},
   "outputs": [],
   "source": [
    "with open('sars_cov2_genome.txt', 'r') as file:\n",
    "    corona = file.read()\n",
    "\n",
    "# print(corona)"
   ]
  },
  {
   "cell_type": "markdown",
   "metadata": {},
   "source": [
    "Now we only want {a, c, t, g} in corona.  We want to remove the spaces and numbers. Let's do that:"
   ]
  },
  {
   "cell_type": "code",
   "execution_count": 3,
   "metadata": {},
   "outputs": [],
   "source": [
    "for s in \"\\n01234567789 \":\n",
    "    corona = corona.replace(s, \"\")\n",
    "\n",
    "# corona"
   ]
  },
  {
   "cell_type": "code",
   "execution_count": 4,
   "metadata": {},
   "outputs": [
    {
     "data": {
      "text/plain": [
       "29903"
      ]
     },
     "execution_count": 4,
     "metadata": {},
     "output_type": "execute_result"
    }
   ],
   "source": [
    "len(corona)"
   ]
  },
  {
   "cell_type": "markdown",
   "metadata": {},
   "source": [
    "### Q. 1 - What is the 'kolmogorov complexity' of the Coronavirus? \n",
    "\n",
    "This question is simply asking - how many bytes of information does it contain. "
   ]
  },
  {
   "cell_type": "code",
   "execution_count": 5,
   "metadata": {},
   "outputs": [
    {
     "data": {
      "text/plain": [
       "8858"
      ]
     },
     "execution_count": 5,
     "metadata": {},
     "output_type": "execute_result"
    }
   ],
   "source": [
    "import zlib\n",
    "len(zlib.compress(corona.encode(\"utf-8\")))"
   ]
  },
  {
   "cell_type": "markdown",
   "metadata": {},
   "source": [
    "The above result means - The RNA of Coronavirus can contain '8858' bytes of information. This is just an upper-bound. This means - Coronavirus cannot contain more than '8858' bytes of information. Let's see if we can compress it a little more."
   ]
  },
  {
   "cell_type": "code",
   "execution_count": 6,
   "metadata": {},
   "outputs": [
    {
     "data": {
      "text/plain": [
       "8408"
      ]
     },
     "execution_count": 6,
     "metadata": {},
     "output_type": "execute_result"
    }
   ],
   "source": [
    "import lzma\n",
    "lzc = lzma.compress(corona.encode(\"utf-8\"))\n",
    "len(lzc)"
   ]
  },
  {
   "cell_type": "markdown",
   "metadata": {},
   "source": [
    "This is a better compression. So we can conclude that - Coronavirus approximately contains 8.3 kB of information. \n",
    "\n",
    "### Q. 2 - What type of information does this genome contain? How we can extract it?\n",
    "\n",
    "The genome contains the information about the proteins it can make. These proteins determine the characteristics of the cell in which they are produced. So we need to extract information about the proteins. To extract this info, we must know - how proteins are formed from the genetic material i.e. DNA/RNA.\n",
    "\n",
    "> **Basic Information:** RNAs and DNAs form proteins. This is how proteins are formed from DNA. In DNA, A-T/U and G-C form pairs. This pair formation is because - the chemical structure of A, T/U, G and C is such that - A and T are attracted towards each other by 2 hydrogen bonds and G and C together are attracted by 3 hydrogen bonds. A-C and G-T can't form such stable bonds. \n",
    "\n",
    "<img src=\"./images/AT-GC.jpg\" width=\"480\">\n",
    "\n",
    "> What happens during protein formation is:\n",
    "\n",
    "<img src=\"./images/transcript-translate-cell.jpg\">\n",
    "\n",
    "> An enzyme called 'RNA polymerase' breaks these hydrogen bonds for a small part, takes one strand of DNA and forms its corresponding paired RNA. This process happens inside the nucleus of the cell. We call this RNA generated as 'mRNA' or 'messenger RNA' because this RNA will come out of nucleus and act like a messaage to Ribosome which will generate proteins accordingly. This process of generation of mRNA is called - **Transcription.** Now Ribosome will read the mRNA in sets of 3 bases. This set of 3 bases is called codon. Codons decide the Amino acids. Depending on the codon read by Ribosome, tRNA (transfer-RNA) brings the appropiate amino acid. These amino acids are then linked using peptide bonds to form a chain called *Polypeptide chain*. At the other end of Ribosome, tRNA is free and can go to take another amino acid. \n",
    "\n",
    "> *Note:* Amino acids are organic compounds that contain amine (-NH2) and carboxyl (-COOH) functional groups. There are 20 standard amino acids and 2 non-standard. Of the 20 standard amino acids, nine (His, Ile, Leu, Lys, Met, Phe, Thr, Trp and Val) are called essential amino acids because the human body cannot synthesize them from other compounds at the level needed for normal growth, so they must be obtained from food. Here is the table of codons and their corresponding Amino acids. 'Met' is usually the starting amino acid i.e. 'AUG' forms the start of mRNA. Hence 'AUG' is called *start codon.* 'UAA', 'UGA' and 'UAG' are *stop codons* as they mark the ending of the polypeptide chain, so that a new chain should start from the next codon. \n",
    "\n",
    "<img src=\"./images/genetic-code-table.jpg\" width=\"600\">\n",
    "\n",
    "> This process of generation of chains of amino acids is called - **Translation.** A very long chain of amino acids is called *Protein.* In summary, we can understand the process as:\n",
    "\n",
    "<img src=\"./images/transcription-translation.png\" width=\"600\">\n"
   ]
  },
  {
   "cell_type": "markdown",
   "metadata": {},
   "source": [
    "Now since in Coronavirus, we only has RNA, the process of Transcription won't occur and only Translation will happen. So what we now need to write is - *a translation function*, which takes corona's genome as input and gives back all the polypeptide chains that could be formed from that genome. For that, we first need a dictionary of codons. Following codons' string is copied from 'Genetic code' - Wikipedia."
   ]
  },
  {
   "cell_type": "code",
   "execution_count": 7,
   "metadata": {},
   "outputs": [],
   "source": [
    "# Asn or Asp / B\tAAU, AAC; GAU, GAC\n",
    "# Gln or Glu / Z\tCAA, CAG; GAA, GAG\n",
    "# START\tAUG\n",
    "\n",
    "codons = \"\"\"Ala / A\tGCU, GCC, GCA, GCG\n",
    "Ile / I\tAUU, AUC, AUA\n",
    "Arg / R\tCGU, CGC, CGA, CGG; AGA, AGG, AGR;\n",
    "Leu / L\tCUU, CUC, CUA, CUG; UUA, UUG, UUR;\n",
    "Asn / N\tAAU, AAC\n",
    "Lys / K\tAAA, AAG\n",
    "Asp / D\tGAU, GAC\n",
    "Met / M\tAUG\n",
    "Phe / F\tUUU, UUC\n",
    "Cys / C\tUGU, UGC\n",
    "Pro / P\tCCU, CCC, CCA, CCG\n",
    "Gln / Q\tCAA, CAG\n",
    "Ser / S\tUCU, UCC, UCA, UCG; AGU, AGC;\n",
    "Glu / E\tGAA, GAG\n",
    "Thr / T\tACU, ACC, ACA, ACG\n",
    "Trp / W\tUGG\n",
    "Gly / G\tGGU, GGC, GGA, GGG\n",
    "Tyr / Y\tUAU, UAC\n",
    "His / H\tCAU, CAC\n",
    "Val / V\tGUU, GUC, GUA, GUG\n",
    "STOP\tUAA, UGA, UAG\"\"\".strip()\n",
    "\n",
    "for t in codons.split('\\n'):\n",
    "    t.split('\\t')"
   ]
  },
  {
   "cell_type": "code",
   "execution_count": 8,
   "metadata": {},
   "outputs": [],
   "source": [
    "dec = {}  # Decoder dictionary\n",
    "\n",
    "for t in codons.split('\\n'):\n",
    "    k, v = t.split('\\t')\n",
    "    if '/' in k:\n",
    "        k = k.split('/')[-1].strip()\n",
    "    k = k.replace(\"STOP\", \"*\")\n",
    "    v = v.replace(\",\", \"\").replace(\";\", \"\").lower().replace(\"u\", \"t\").split(\" \")\n",
    "    for vv in v:\n",
    "        if vv in dec:\n",
    "            print(\"duplicate\", vv)\n",
    "        dec[vv] = k\n",
    "\n",
    "# dec"
   ]
  },
  {
   "cell_type": "code",
   "execution_count": 9,
   "metadata": {},
   "outputs": [
    {
     "data": {
      "text/plain": [
       "21"
      ]
     },
     "execution_count": 9,
     "metadata": {},
     "output_type": "execute_result"
    }
   ],
   "source": [
    "len(set(dec.values()))  # We have 21 amino acids in our decoder"
   ]
  },
  {
   "cell_type": "markdown",
   "metadata": {},
   "source": [
    "Now, decoding the genome can result in one of the three possible ways. These 3 ways are called 'reading frames'. \n",
    "\n",
    "<img src=\"./images/reading-frames.png\" width=\"480\">"
   ]
  },
  {
   "cell_type": "code",
   "execution_count": 10,
   "metadata": {},
   "outputs": [],
   "source": [
    "def translation(x, isProtein = False):\n",
    "    aa = []\n",
    "    for i in range(0, len(x)-2, 3):\n",
    "        aa.append(dec[x[i:i+3]])\n",
    "    aa = ''.join(aa)\n",
    "    if isProtein:\n",
    "        if aa[0] != \"M\" or aa[-1] != \"*\":\n",
    "            print(\"BAD PROTEIN!\")\n",
    "            return None\n",
    "        aa = aa[:-1]\n",
    "    return aa\n",
    "\n",
    "aa = translation(corona[0:]) + translation(corona[1:]) + translation(corona[2:])"
   ]
  },
  {
   "cell_type": "code",
   "execution_count": 11,
   "metadata": {},
   "outputs": [],
   "source": [
    "polypeptides = aa.split(\"*\")\n",
    "# polypeptides"
   ]
  },
  {
   "cell_type": "code",
   "execution_count": 12,
   "metadata": {},
   "outputs": [
    {
     "data": {
      "text/plain": [
       "1777"
      ]
     },
     "execution_count": 12,
     "metadata": {},
     "output_type": "execute_result"
    }
   ],
   "source": [
    "len(polypeptides)"
   ]
  },
  {
   "cell_type": "code",
   "execution_count": 13,
   "metadata": {
    "scrolled": true
   },
   "outputs": [],
   "source": [
    "long_polypep_chains = list(filter(lambda x: len(x) > 100, aa.split(\"*\")))\n",
    "# long_polypep_chains"
   ]
  },
  {
   "cell_type": "code",
   "execution_count": 14,
   "metadata": {},
   "outputs": [
    {
     "data": {
      "text/plain": [
       "10"
      ]
     },
     "execution_count": 14,
     "metadata": {},
     "output_type": "execute_result"
    }
   ],
   "source": [
    "len(long_polypep_chains)"
   ]
  },
  {
   "cell_type": "markdown",
   "metadata": {},
   "source": [
    "This is the genome organisation of Sars-Cov-2. _(Genome organisation is the linear order of genetic material (DNA/RNA) and its division into segments performing some specific function.)_ \n",
    "\n",
    "> Note: ORF stands for 'Open Reading Frame', the reading frame in which protein starts with M and ends with *.\n",
    "\n",
    "Source: https://en.wikipedia.org/wiki/Severe_acute_respiratory_syndrome_coronavirus_2#Phylogenetics_and_taxonomy\n",
    "\n",
    "<img src=\"./images/SARS-CoV-2-genome.png\" width=\"900\">\n",
    "\n",
    "Let's see if we can extract all the segments as mentioned here. We will refer to the following source again. Source: https://www.ncbi.nlm.nih.gov/nuccore/NC_045512\n",
    "\n",
    "Also, if you will see the following genome organisation of Sars-Cov (old coronavirus), you will notice - the structure is very similar to Sars-CoV-2. _(Ignore the detailing given in the structure.)_\n",
    "\n",
    "<img src=\"./images/SARS-CoV-1-genome.png\" width=\"800\">"
   ]
  },
  {
   "cell_type": "code",
   "execution_count": 15,
   "metadata": {},
   "outputs": [],
   "source": [
    "# https://www.ncbi.nlm.nih.gov/protein/1802476803 -  \n",
    "# Orf1a polyprotein, found in Sars-Cov-2 (new Covid 19)\n",
    "orf1a_v2 = translation(corona[265:13483], True)\n",
    "\n",
    "# orf1a_v2"
   ]
  },
  {
   "cell_type": "code",
   "execution_count": 15,
   "metadata": {},
   "outputs": [],
   "source": [
    "# https://www.uniprot.org/uniprot/A7J8L3\n",
    "# Orf1a polyprotein, found in Sars-Cov\n",
    "orf1a_v1 = \"\"\"MESLVLGVNEKTHVQLSLPVLQVRDVLVRGFGDSVEEALSEAREHLKNGTCGLVELEKGV\n",
    "LPQLEQPYVFIKRSDALSTNHGHKVVELVAEMDGIQYGRSGITLGVLVPHVGETPIAYRN\n",
    "VLLRKNGNKGAGGHSYGIDLKSYDLGDELGTDPIEDYEQNWNTKHGSGALRELTRELNGG\n",
    "AVTRYVDNNFCGPDGYPLDCIKDFLARAGKSMCTLSEQLDYIESKRGVYCCRDHEHEIAW\n",
    "FTERSDKSYEHQTPFEIKSAKKFDTFKGECPKFVFPLNSKVKVIQPRVEKKKTEGFMGRI\n",
    "RSVYPVASPQECNNMHLSTLMKCNHCDEVSWQTCDFLKATCEHCGTENLVIEGPTTCGYL\n",
    "PTNAVVKMPCPACQDPEIGPEHSVADYHNHSNIETRLRKGGRTRCFGGCVFAYVGCYNKR\n",
    "AYWVPRASADIGSGHTGITGDNVETLNEDLLEILSRERVNINIVGDFHLNEEVAIILASF\n",
    "SASTSAFIDTIKSLDYKSFKTIVESCGNYKVTKGKPVKGAWNIGQQRSVLTPLCGFPSQA\n",
    "AGVIRSIFARTLDAANHSIPDLQRAAVTILDGISEQSLRLVDAMVYTSDLLTNSVIIMAY\n",
    "VTGGLVQQTSQWLSNLLGTTVEKLRPIFEWIEAKLSAGVEFLKDAWEILKFLITGVFDIV\n",
    "KGQIQVASDNIKDCVKCFIDVVNKALEMCIDQVTIAGAKLRSLNLGEVFIAQSKGLYRQC\n",
    "IRGKEQLQLLMPLKAPKEVTFLEGDSHDTVLTSEEVVLKNGELEALETPVDSFTNGAIVG\n",
    "TPVCVNGLMLLEIKDKEQYCALSPGLLATNNVFRLKGGAPIKGVTFGEDTVWEVQGYKNV\n",
    "RITFELDERVDKVLNEKCSVYTVESGTEVTEFACVVAEAVVKTLQPVSDLLTNMGIDLDE\n",
    "WSVATFYLFDDAGEENFSSRMYCSFYPPDEEEEDDAECEEEEIDETCEHEYGTEDDYQGL\n",
    "PLEFGASAETVRVEEEEEEDWLDDTTEQSEIEPEPEPTPEEPVNQFTGYLKLTDNVAIKC\n",
    "VDIVKEAQSANPMVIVNAANIHLKHGGGVAGALNKATNGAMQKESDDYIKLNGPLTVGGS\n",
    "CLLSGHNLAKKCLHVVGPNLNAGEDIQLLKAAYENFNSQDILLAPLLSAGIFGAKPLQSL\n",
    "QVCVQTVRTQVYIAVNDKALYEQVVMDYLDNLKPRVEAPKQEEPPNTEDSKTEEKSVVQK\n",
    "PVDVKPKIKACIDEVTTTLEETKFLTNKLLLFADINGKLYHDSQNMLRGEDMSFLEKDAP\n",
    "YMVGDVITSGDITCVVIPSKKAGGTTEMLSRALKKVPVDEYITTYPGQGCAGYTLEEAKT\n",
    "ALKKCKSAFYVLPSEAPNAKEEILGTVSWNLREMLAHAEETRKLMPICMDVRAIMATIQR\n",
    "KYKGIKIQEGIVDYGVRFFFYTSKEPVASIITKLNSLNEPLVTMPIGYVTHGFNLEEAAR\n",
    "CMRSLKAPAVVSVSSPDAVTTYNGYLTSSSKTSEEHFVETVSLAGSYRDWSYSGQRTELG\n",
    "VEFLKRGDKIVYHTLESPVEFHLDGEVLSLDKLKSLLSLREVKTIKVFTTVDNTNLHTQL\n",
    "VDMSMTYGQQFGPTYLDGADVTKIKPHVNHEGKTFFVLPSDDTLRSEAFEYYHTLDESFL\n",
    "GRYMSALNHTKKWKFPQVGGLTSIKWADNNCYLSSVLLALQQLEVKFNAPALQEAYYRAR\n",
    "AGDAANFCALILAYSNKTVGELGDVRETMTHLLQHANLESAKRVLNVVCKHCGQKTTTLT\n",
    "GVEAVMYMGTLSYDNLKTGVSIPCVCGRDATQYLVQQESSFVMMSAPPAEYKLQQGTFLC\n",
    "ANEYTGNYQCGHYTHITAKETLYRIDGAHLTKMSEYKGPVTDVFYKETSYTTTIKPVSYK\n",
    "LDGVTYTEIEPKLDGYYKKDNAYYTEQPIDLVPTQPLPNASFDNFKLTCSNTKFADDLNQ\n",
    "MTGFTKPASRELSVTFFPDLNGDVVAIDYRHYSASFKKGAKLLHKPIVWHINQATTKTTF\n",
    "KPNTWCLRCLWSTKPVDTSNSFEVLAVEDTQGMDNLACESQQPTSEEVVENPTIQKEVIE\n",
    "CDVKTTEVVGNVILKPSDEGVKVTQELGHEDLMAAYVENTSITIKKPNELSLALGLKTIA\n",
    "THGIAAINSVPWSKILAYVKPFLGQAAITTSNCAKRLAQRVFNNYMPYVFTLLFQLCTFT\n",
    "KSTNSRIRASLPTTIAKNSVKSVAKLCLDAGINYVKSPKFSKLFTIAMWLLLLSICLGSL\n",
    "ICVTAAFGVLLSNFGAPSYCNGVRELYLNSSNVTTMDFCEGSFPCSICLSGLDSLDSYPA\n",
    "LETIQVTISSYKLDLTILGLAAEWVLAYMLFTKFFYLLGLSAIMQVFFGYFASHFISNSW\n",
    "LMWFIISIVQMAPVSAMVRMYIFFASFYYIWKSYVHIMDGCTSSTCMMCYKRNRATRVEC\n",
    "TTIVNGMKRSFYVYANGGRGFCKTHNWNCLNCDTFCTGSTFISDEVARDLSLQFKRPINP\n",
    "TDQSSYIVDSVAVKNGALHLYFDKAGQKTYERHPLSHFVNLDNLRANNTKGSLPINVIVF\n",
    "DGKSKCDESASKSASVYYSQLMCQPILLLDQALVSDVGDSTEVSVKMFDAYVDTFSATFS\n",
    "VPMEKLKALVATAHSELAKGVALDGVLSTFVSAARQGVVDTDVDTKDVIECLKLSHHSDL\n",
    "EVTGDSCNNFMLTYNKVENMTPRDLGACIDCNARHINAQVAKSHNVSLIWNVKDYMSLSE\n",
    "QLRKQIRSAAKKNNIPFRLTCATTRQVVNVITTKISLKGGKIVSTCFKLMLKATLLCVLA\n",
    "ALVCYIVMPVHTLSIHDGYTNEIIGYKAIQDGVTRDIISTDDCFANKHAGFDAWFSQRGG\n",
    "SYKNDKSCPVVAAIITREIGFIVPGLPGTVLRAINGDFLHFLPRVFSAVGNICYTPSKLI\n",
    "EYSDFATSACVLAAECTIFKDAMGKPVPYCYDTNLLEGSISYSELRPDTRYVLMDGSIIQ\n",
    "FPNTYLEGSVRVVTTFDAEYCRHGTCERSEVGICLSTSGRWVLNNEHYRALSGVFCGVDA\n",
    "MNLIANIFTPLVQPVGALDVSASVVAGGIIAILVTCAAYYFMKFRRVFGEYNHVVAANAL\n",
    "LFLMSFTILCLVPAYSFLPGVYSVFYLYLTFYFTNDVSFLAHLQWFAMFSPIVPFWITAI\n",
    "YVFCISLKHCHWFFNNYLRKRVMFNGVTFSTFEEAALCTFLLNKEMYLKLRSETLLPLTQ\n",
    "YNRYLALYNKYKYFSGALDTTSYREAACCHLAKALNDFSNSGADVLYQPPQTSITSAVLQ\n",
    "SGFRKMAFPSGKVEGCMVQVTCGTTTLNGLWLDDTVYCPRHVICTAEDMLNPNYEDLLIR\n",
    "KSNHSFLVQAGNVQLRVIGHSMQNCLLRLKVDTSNPKTPKYKFVRIQPGQTFSVLACYNG\n",
    "SPSGVYQCAMRPNHTIKGSFLNGSCGSVGFNIDYDCVSFCYMHHMELPTGVHAGTDLEGK\n",
    "FYGPFVDRQTAQAAGTDTTITLNVLAWLYAAVINGDRWFLNRFTTTLNDFNLVAMKYNYE\n",
    "PLTQDHVDILGPLSAQTGIAVLDMCAALKELLQNGMNGRTILGSTILEDEFTPFDVVRQC\n",
    "SGVTFQGKFKKIVKGTHHWMLLTFLTSLLILVQSTQWSLFFFVYENAFLPFTLGIMAIAA\n",
    "CAMLLVKHKHAFLCLFLLPSLATVAYFNMVYMPASWVMRIMTWLELADTSLSGYRLKDCV\n",
    "MYASALVLLILMTARTVYDDAARRVWTLMNVITLVYKVYYGNALDQAISMWALVISVTSN\n",
    "YSGVVTTIMFLARAIVFVCVEYYPLLFITGNTLQCIMLVYCFLGYCCCCYFGLFCLLNRY\n",
    "FRLTLGVYDYLVSTQEFRYMNSQGLLPPKSSIDAFKLNIKLLGIGGKPCIKVATVQSKMS\n",
    "DVKCTSVVLLSVLQQLRVESSSKLWAQCVQLHNDILLAKDTTEAFEKMVSLLSVLLSMQG\n",
    "AVDINRLCEEMLDNRATLQAIASEFSSLPSYAAYATAQEAYEQAVANGDSEVVLKKLKKS\n",
    "LNVAKSEFDRDAAMQRKLEKMADQAMTQMYKQARSEDKRAKVTSAMQTMLFTMLRKLDND\n",
    "ALNNIINNARDGCVPLNIIPLTTAAKLMVVVPDYGTYKNTCDGNTFTYASALWEIQQVVD\n",
    "ADSKIVQLSEINMDNSPNLAWPLIVTALRANSAVKLQNNELSPVALRQMSCAAGTTQTAC\n",
    "TDDNALAYYNNSKGGRFVLALLSDHQDLKWARFPKSDGTGTIYTELEPPCRFVTDTPKGP\n",
    "KVKYLYFIKGLNNLNRGMVLGSLAATVRLQAGNATEVPANSTVLSFCAFAVDPAKAYKDY\n",
    "LASGGQPITNCVKMLCTHTGTGQAITVTPEANMDQESFGGASCCLYCRCHIDHPNPKGFC\n",
    "DLKGKYVQIPTTCANDPVGFTLRNTVCTVCGMWKGYGCSCDQLREPLMQSADASTFLNGF\n",
    "AV\"\"\".replace(\"\\n\", \"\")"
   ]
  },
  {
   "cell_type": "code",
   "execution_count": 16,
   "metadata": {},
   "outputs": [
    {
     "data": {
      "text/plain": [
       "(4382, 4405)"
      ]
     },
     "execution_count": 16,
     "metadata": {},
     "output_type": "execute_result"
    }
   ],
   "source": [
    "len(orf1a_v1), len(orf1a_v2)"
   ]
  },
  {
   "cell_type": "markdown",
   "metadata": {},
   "source": [
    "Usually orf1b is not studied alone but along with orf1a. So we need to look at 'orf1ab'. But just to prove that the length of orf1b is 2595, here is just finding the length of orf1b in SARS-CoV-2."
   ]
  },
  {
   "cell_type": "code",
   "execution_count": 17,
   "metadata": {},
   "outputs": [
    {
     "data": {
      "text/plain": [
       "2595"
      ]
     },
     "execution_count": 17,
     "metadata": {},
     "output_type": "execute_result"
    }
   ],
   "source": [
    "# For orf1b_v1, refer - https://www.uniprot.org/uniprot/A0A0A0QGJ0\n",
    "orf1b_v2 = translation(corona[13467:21555])\n",
    "\n",
    "# Length calculated from first 'M'. The last base is *, so extra -1 for that. \n",
    "len(orf1b_v2) - orf1b_v2.find('M') - 1   "
   ]
  },
  {
   "cell_type": "code",
   "execution_count": 18,
   "metadata": {},
   "outputs": [],
   "source": [
    "# https://www.ncbi.nlm.nih.gov/protein/1796318597 - \n",
    "# Orf1ab polyprotein - found in Sars-cov-2\n",
    "orf1ab_v2 = translation(corona[265:13468]) + translation(corona[13467:21555])"
   ]
  },
  {
   "cell_type": "code",
   "execution_count": 19,
   "metadata": {},
   "outputs": [],
   "source": [
    "# https://www.uniprot.org/uniprot/A7J8L2\n",
    "# Orf1ab polyprotein - found in Sars-cov\n",
    "\n",
    "orf1ab_v1 = \"\"\"MESLVLGVNEKTHVQLSLPVLQVRDVLVRGFGDSVEEALSEAREHLKNGTCGLVELEKGV\n",
    "LPQLEQPYVFIKRSDALSTNHGHKVVELVAEMDGIQYGRSGITLGVLVPHVGETPIAYRN\n",
    "VLLRKNGNKGAGGHSYGIDLKSYDLGDELGTDPIEDYEQNWNTKHGSGALRELTRELNGG\n",
    "AVTRYVDNNFCGPDGYPLDCIKDFLARAGKSMCTLSEQLDYIESKRGVYCCRDHEHEIAW\n",
    "FTERSDKSYEHQTPFEIKSAKKFDTFKGECPKFVFPLNSKVKVIQPRVEKKKTEGFMGRI\n",
    "RSVYPVASPQECNNMHLSTLMKCNHCDEVSWQTCDFLKATCEHCGTENLVIEGPTTCGYL\n",
    "PTNAVVKMPCPACQDPEIGPEHSVADYHNHSNIETRLRKGGRTRCFGGCVFAYVGCYNKR\n",
    "AYWVPRASADIGSGHTGITGDNVETLNEDLLEILSRERVNINIVGDFHLNEEVAIILASF\n",
    "SASTSAFIDTIKSLDYKSFKTIVESCGNYKVTKGKPVKGAWNIGQQRSVLTPLCGFPSQA\n",
    "AGVIRSIFARTLDAANHSIPDLQRAAVTILDGISEQSLRLVDAMVYTSDLLTNSVIIMAY\n",
    "VTGGLVQQTSQWLSNLLGTTVEKLRPIFEWIEAKLSAGVEFLKDAWEILKFLITGVFDIV\n",
    "KGQIQVASDNIKDCVKCFIDVVNKALEMCIDQVTIAGAKLRSLNLGEVFIAQSKGLYRQC\n",
    "IRGKEQLQLLMPLKAPKEVTFLEGDSHDTVLTSEEVVLKNGELEALETPVDSFTNGAIVG\n",
    "TPVCVNGLMLLEIKDKEQYCALSPGLLATNNVFRLKGGAPIKGVTFGEDTVWEVQGYKNV\n",
    "RITFELDERVDKVLNEKCSVYTVESGTEVTEFACVVAEAVVKTLQPVSDLLTNMGIDLDE\n",
    "WSVATFYLFDDAGEENFSSRMYCSFYPPDEEEEDDAECEEEEIDETCEHEYGTEDDYQGL\n",
    "PLEFGASAETVRVEEEEEEDWLDDTTEQSEIEPEPEPTPEEPVNQFTGYLKLTDNVAIKC\n",
    "VDIVKEAQSANPMVIVNAANIHLKHGGGVAGALNKATNGAMQKESDDYIKLNGPLTVGGS\n",
    "CLLSGHNLAKKCLHVVGPNLNAGEDIQLLKAAYENFNSQDILLAPLLSAGIFGAKPLQSL\n",
    "QVCVQTVRTQVYIAVNDKALYEQVVMDYLDNLKPRVEAPKQEEPPNTEDSKTEEKSVVQK\n",
    "PVDVKPKIKACIDEVTTTLEETKFLTNKLLLFADINGKLYHDSQNMLRGEDMSFLEKDAP\n",
    "YMVGDVITSGDITCVVIPSKKAGGTTEMLSRALKKVPVDEYITTYPGQGCAGYTLEEAKT\n",
    "ALKKCKSAFYVLPSEAPNAKEEILGTVSWNLREMLAHAEETRKLMPICMDVRAIMATIQR\n",
    "KYKGIKIQEGIVDYGVRFFFYTSKEPVASIITKLNSLNEPLVTMPIGYVTHGFNLEEAAR\n",
    "CMRSLKAPAVVSVSSPDAVTTYNGYLTSSSKTSEEHFVETVSLAGSYRDWSYSGQRTELG\n",
    "VEFLKRGDKIVYHTLESPVEFHLDGEVLSLDKLKSLLSLREVKTIKVFTTVDNTNLHTQL\n",
    "VDMSMTYGQQFGPTYLDGADVTKIKPHVNHEGKTFFVLPSDDTLRSEAFEYYHTLDESFL\n",
    "GRYMSALNHTKKWKFPQVGGLTSIKWADNNCYLSSVLLALQQLEVKFNAPALQEAYYRAR\n",
    "AGDAANFCALILAYSNKTVGELGDVRETMTHLLQHANLESAKRVLNVVCKHCGQKTTTLT\n",
    "GVEAVMYMGTLSYDNLKTGVSIPCVCGRDATQYLVQQESSFVMMSAPPAEYKLQQGTFLC\n",
    "ANEYTGNYQCGHYTHITAKETLYRIDGAHLTKMSEYKGPVTDVFYKETSYTTTIKPVSYK\n",
    "LDGVTYTEIEPKLDGYYKKDNAYYTEQPIDLVPTQPLPNASFDNFKLTCSNTKFADDLNQ\n",
    "MTGFTKPASRELSVTFFPDLNGDVVAIDYRHYSASFKKGAKLLHKPIVWHINQATTKTTF\n",
    "KPNTWCLRCLWSTKPVDTSNSFEVLAVEDTQGMDNLACESQQPTSEEVVENPTIQKEVIE\n",
    "CDVKTTEVVGNVILKPSDEGVKVTQELGHEDLMAAYVENTSITIKKPNELSLALGLKTIA\n",
    "THGIAAINSVPWSKILAYVKPFLGQAAITTSNCAKRLAQRVFNNYMPYVFTLLFQLCTFT\n",
    "KSTNSRIRASLPTTIAKNSVKSVAKLCLDAGINYVKSPKFSKLFTIAMWLLLLSICLGSL\n",
    "ICVTAAFGVLLSNFGAPSYCNGVRELYLNSSNVTTMDFCEGSFPCSICLSGLDSLDSYPA\n",
    "LETIQVTISSYKLDLTILGLAAEWVLAYMLFTKFFYLLGLSAIMQVFFGYFASHFISNSW\n",
    "LMWFIISIVQMAPVSAMVRMYIFFASFYYIWKSYVHIMDGCTSSTCMMCYKRNRATRVEC\n",
    "TTIVNGMKRSFYVYANGGRGFCKTHNWNCLNCDTFCTGSTFISDEVARDLSLQFKRPINP\n",
    "TDQSSYIVDSVAVKNGALHLYFDKAGQKTYERHPLSHFVNLDNLRANNTKGSLPINVIVF\n",
    "DGKSKCDESASKSASVYYSQLMCQPILLLDQALVSDVGDSTEVSVKMFDAYVDTFSATFS\n",
    "VPMEKLKALVATAHSELAKGVALDGVLSTFVSAARQGVVDTDVDTKDVIECLKLSHHSDL\n",
    "EVTGDSCNNFMLTYNKVENMTPRDLGACIDCNARHINAQVAKSHNVSLIWNVKDYMSLSE\n",
    "QLRKQIRSAAKKNNIPFRLTCATTRQVVNVITTKISLKGGKIVSTCFKLMLKATLLCVLA\n",
    "ALVCYIVMPVHTLSIHDGYTNEIIGYKAIQDGVTRDIISTDDCFANKHAGFDAWFSQRGG\n",
    "SYKNDKSCPVVAAIITREIGFIVPGLPGTVLRAINGDFLHFLPRVFSAVGNICYTPSKLI\n",
    "EYSDFATSACVLAAECTIFKDAMGKPVPYCYDTNLLEGSISYSELRPDTRYVLMDGSIIQ\n",
    "FPNTYLEGSVRVVTTFDAEYCRHGTCERSEVGICLSTSGRWVLNNEHYRALSGVFCGVDA\n",
    "MNLIANIFTPLVQPVGALDVSASVVAGGIIAILVTCAAYYFMKFRRVFGEYNHVVAANAL\n",
    "LFLMSFTILCLVPAYSFLPGVYSVFYLYLTFYFTNDVSFLAHLQWFAMFSPIVPFWITAI\n",
    "YVFCISLKHCHWFFNNYLRKRVMFNGVTFSTFEEAALCTFLLNKEMYLKLRSETLLPLTQ\n",
    "YNRYLALYNKYKYFSGALDTTSYREAACCHLAKALNDFSNSGADVLYQPPQTSITSAVLQ\n",
    "SGFRKMAFPSGKVEGCMVQVTCGTTTLNGLWLDDTVYCPRHVICTAEDMLNPNYEDLLIR\n",
    "KSNHSFLVQAGNVQLRVIGHSMQNCLLRLKVDTSNPKTPKYKFVRIQPGQTFSVLACYNG\n",
    "SPSGVYQCAMRPNHTIKGSFLNGSCGSVGFNIDYDCVSFCYMHHMELPTGVHAGTDLEGK\n",
    "FYGPFVDRQTAQAAGTDTTITLNVLAWLYAAVINGDRWFLNRFTTTLNDFNLVAMKYNYE\n",
    "PLTQDHVDILGPLSAQTGIAVLDMCAALKELLQNGMNGRTILGSTILEDEFTPFDVVRQC\n",
    "SGVTFQGKFKKIVKGTHHWMLLTFLTSLLILVQSTQWSLFFFVYENAFLPFTLGIMAIAA\n",
    "CAMLLVKHKHAFLCLFLLPSLATVAYFNMVYMPASWVMRIMTWLELADTSLSGYRLKDCV\n",
    "MYASALVLLILMTARTVYDDAARRVWTLMNVITLVYKVYYGNALDQAISMWALVISVTSN\n",
    "YSGVVTTIMFLARAIVFVCVEYYPLLFITGNTLQCIMLVYCFLGYCCCCYFGLFCLLNRY\n",
    "FRLTLGVYDYLVSTQEFRYMNSQGLLPPKSSIDAFKLNIKLLGIGGKPCIKVATVQSKMS\n",
    "DVKCTSVVLLSVLQQLRVESSSKLWAQCVQLHNDILLAKDTTEAFEKMVSLLSVLLSMQG\n",
    "AVDINRLCEEMLDNRATLQAIASEFSSLPSYAAYATAQEAYEQAVANGDSEVVLKKLKKS\n",
    "LNVAKSEFDRDAAMQRKLEKMADQAMTQMYKQARSEDKRAKVTSAMQTMLFTMLRKLDND\n",
    "ALNNIINNARDGCVPLNIIPLTTAAKLMVVVPDYGTYKNTCDGNTFTYASALWEIQQVVD\n",
    "ADSKIVQLSEINMDNSPNLAWPLIVTALRANSAVKLQNNELSPVALRQMSCAAGTTQTAC\n",
    "TDDNALAYYNNSKGGRFVLALLSDHQDLKWARFPKSDGTGTIYTELEPPCRFVTDTPKGP\n",
    "KVKYLYFIKGLNNLNRGMVLGSLAATVRLQAGNATEVPANSTVLSFCAFAVDPAKAYKDY\n",
    "LASGGQPITNCVKMLCTHTGTGQAITVTPEANMDQESFGGASCCLYCRCHIDHPNPKGFC\n",
    "DLKGKYVQIPTTCANDPVGFTLRNTVCTVCGMWKGYGCSCDQLREPLMQSADASTFLNRV\n",
    "CGVSAARLTPCGTGTSTDVVYRAFDIYNEKVAGFAKFLKTNCCRFQEKDEEGNLLDSYFV\n",
    "VKRHTMSNYQHEETIYNLVKDCPAVAVHDFFKFRVDGDMVPHISRQRLTKYTMADLVYAL\n",
    "RHFDEGNCDTLKEILVTYNCCDDDYFNKKDWYDFVENPDILRVYANLGERVRQSLLKTVQ\n",
    "FCDAMRDAGIVGVLTLDNQDLNGNWYDFGDFVQVAPGCGVPIVDSYYSLLMPILTLTRAL\n",
    "AAESHMDADLAKPLIKWDLLKYDFTEERLCLFDRYFKYWDQTYHPNCINCLDDRCILHCA\n",
    "NFNVLFSTVFPPTSFGPLVRKIFVDGVPFVVSTGYHFRELGVVHNQDVNLHSSRLSFKEL\n",
    "LVYAADPAMHAASGNLLLDKRTTCFSVAALTNNVAFQTVKPGNFNKDFYDFAVSKGFFKE\n",
    "GSSVELKHFFFAQDGNAAISDYDYYRYNLPTMCDIRQLLFVVEVVDKYFDCYDGGCINAN\n",
    "QVIVNNLDKSAGFPFNKWGKARLYYDSMSYEDQDALFAYTKRNVIPTITQMNLKYAISAK\n",
    "NRARTVAGVSICSTMTNRQFHQKLLKSIAATRGATVVIGTSKFYGGWHNMLKTVYSDVET\n",
    "PHLMGWDYPKCDRAMPNMLRIMASLVLARKHNTCCNLSHRFYRLANECAQVLSEMVMCGG\n",
    "SLYVKPGGTSSGDATTAYANSVFNICQAVTANVNALLSTDGNKIADKYVRNLQHRLYECL\n",
    "YRNRDVDHEFVDEFYAYLRKHFSMMILSDDAVVCYNSNYAAQGLVASIKNFKAVLYYQNN\n",
    "VFMSEAKCWTETDLTKGPHEFCSQHTMLVKQGDDYVYLPYPDPSRILGAGCFVDDIVKTD\n",
    "GTLMIERFVSLAIDAYPLTKHPNQEYADVFHLYLQYIRKLHDELTGHMLDMYSVMLTNDN\n",
    "TSRYWEPEFYEAMYTPHTVLQAVGACVLCNSQTSLRCGACIRRPFLCCKCCYDHVISTSH\n",
    "KLVLSVNPYVCNAPGCDVTDVTQLYLGGMSYYCKSHKPPISFPLCANGQVFGLYKNTCVG\n",
    "SDNVTDFNAIATCDWTNAGDYILANTCTERLKLFAAETLKATEETFKLSYGIATVREVLS\n",
    "DRELHLSWEVGKPRPPLNRNYVFTGYRVTKNSKVQIGEYTFEKGDYGDAVVYRGTTTYKL\n",
    "NVGDYFVLTSHTVMPLSAPTLVPQEHYVRITGLYPTLNISDEFSSNVANYQKVGMQKYST\n",
    "LQGPPGTGKSHFAIGLALYYPSARIVYTACSHAAVDALCEKALKYLPIDKCSRIIPARAR\n",
    "VECFDKFKVNSTLEQYVFCTVNALPETTADIVVFDEISMATNYDLSVVNARLRAKHYVYI\n",
    "GDPAQLPAPRTLLTKGTLEPEYFNSVCRLMKTIGPDMFLGTCRRCPAEIVDTVSALVYDN\n",
    "KLKAHKDKSAQCFKMFYKGVITHDVSSAINRPQIGVVREFLTRNPAWRKAVFISPYNSQN\n",
    "AVASKILGLPTQTVDSSQGSEYDYVIFTQTTETAHSCNVNRFNVAITRAKIGILCIMSDR\n",
    "DLYDKLQFTSLEIPRRNVATLQAENVTGLFKDCSKIITGLHPTQAPTHLSVDIKFKTEGL\n",
    "CVDIPGIPKDMTYRRLISMMGFKMNYQVNGYPNMFITREEAIRHVRAWIGFDVEGCHATR\n",
    "DAVGTNLPLQLGFSTGVNLVAVPTGYVDTENNTEFTRVNAKPPPGDQFKHLIPLMYKGLP\n",
    "WNVVRIKIVQMLSDTLKGLSDRVVFVLWAHGFELTSMKYFVKIGPERTCCLCDKRATCFS\n",
    "TSSDTYACWNHSVGFDYVYNPFMIDVQQWGFTGNLQSNHDQHCQVHGNAHVASCDAIMTR\n",
    "CLAVHECFVKRVDWSVEYPIIGDELRVNSACRKVQHMVVKSALLADKFPVLHDIGNPKAI\n",
    "KCVPQAEVEWKFYDAQPCSDKAYKIEELFYSYATHHDKFTDGVCLFWNCNVDRYPANAIV\n",
    "CRFDTRVLSNLNLPGCDGGSLYVNKHAFHTPAFDKSAFTNLKQLPFFYYSDSPCESHGKQ\n",
    "VVSDIDYVPLKSATCITRCNLGGAVCRHHANEYRQYLDAYNMMISAGFSLWIYKQFDTYN\n",
    "LWNTFTRLQSLENVAYNVVNKGHFDGHAGEAPVSIINNAVYTKVDGIDVEIFENKTTLPV\n",
    "NVAFELWAKRNIKPVPEIKILNNLGVDIAANTVIWDYKREAPAHVSTIGVCTMTDIAKKP\n",
    "TESACSSLTVLFDGRVEGQVDLFRNARNGVLITEGSVKGLTPSKGPAQASVNGVTLIGES\n",
    "VKTQFNYFKKVDGIIQQLPETYFTQSRDLEDFKPRSQMETDFLELAMDEFIQRYKLEGYA\n",
    "FEHIVYGDFSHGQLGGLHLMIGLAKRSQDSPLKLEDFIPMDSTVKNYFITDAQTGSSKCV\n",
    "CSVIDLLLDDFVEIIKSQDLSVISKVVKVTIDYAEISFMLWCKDGHVETFYPKLQASQAW\n",
    "QPGVAMPNLYKMQRMLLEKCDLQNYGENAVIPKGIMMNVAKYTQLCQYLNTLTLAVPYNM\n",
    "RVIHFGAGSDKGVAPGTAVLRQWLPTGTLLVDSDLNDFVSDADSTLIGDCATVHTANKWD\n",
    "LIISDMYDPRTKHVTKENDSKEGFFTYLCGFIKQKLALGGSIAVKITEHSWNADLYKLMG\n",
    "HFSWWTAFVTNVNASSSEAFLIGANYLGKPKEQIDGYTMHANYIFWRNTNPIQLSSYSLF\n",
    "DMSKFPLKLRGTAVMSLKENQINDMIYSLLEKGRLIIRENNRVVVSSDILVNN\"\"\".replace(\"\\n\", \"\")"
   ]
  },
  {
   "cell_type": "code",
   "execution_count": 20,
   "metadata": {},
   "outputs": [
    {
     "data": {
      "text/plain": [
       "(7097, 7073)"
      ]
     },
     "execution_count": 20,
     "metadata": {},
     "output_type": "execute_result"
    }
   ],
   "source": [
    "len(orf1ab_v2), len(orf1ab_v1)"
   ]
  },
  {
   "cell_type": "markdown",
   "metadata": {},
   "source": [
    "So by now, we have extracted Orf1a and Orf1b RNA segments. "
   ]
  },
  {
   "cell_type": "code",
   "execution_count": 21,
   "metadata": {},
   "outputs": [],
   "source": [
    "# https://www.ncbi.nlm.nih.gov/protein/1796318598\n",
    "# Spike glycoprotein - found in Sars-cov-2\n",
    "\n",
    "spike_v2 = translation(corona[21562:25384], True)"
   ]
  },
  {
   "cell_type": "code",
   "execution_count": 22,
   "metadata": {},
   "outputs": [],
   "source": [
    "# https://www.uniprot.org/uniprot/P59594\n",
    "# Spike glycoprotein - found in Sars-cov\n",
    "\n",
    "spike_v1 = \"\"\"MFIFLLFLTLTSGSDLDRCTTFDDVQAPNYTQHTSSMRGVYYPDEIFRSDTLYLTQDLFL\n",
    "PFYSNVTGFHTINHTFGNPVIPFKDGIYFAATEKSNVVRGWVFGSTMNNKSQSVIIINNS\n",
    "TNVVIRACNFELCDNPFFAVSKPMGTQTHTMIFDNAFNCTFEYISDAFSLDVSEKSGNFK\n",
    "HLREFVFKNKDGFLYVYKGYQPIDVVRDLPSGFNTLKPIFKLPLGINITNFRAILTAFSP\n",
    "AQDIWGTSAAAYFVGYLKPTTFMLKYDENGTITDAVDCSQNPLAELKCSVKSFEIDKGIY\n",
    "QTSNFRVVPSGDVVRFPNITNLCPFGEVFNATKFPSVYAWERKKISNCVADYSVLYNSTF\n",
    "FSTFKCYGVSATKLNDLCFSNVYADSFVVKGDDVRQIAPGQTGVIADYNYKLPDDFMGCV\n",
    "LAWNTRNIDATSTGNYNYKYRYLRHGKLRPFERDISNVPFSPDGKPCTPPALNCYWPLND\n",
    "YGFYTTTGIGYQPYRVVVLSFELLNAPATVCGPKLSTDLIKNQCVNFNFNGLTGTGVLTP\n",
    "SSKRFQPFQQFGRDVSDFTDSVRDPKTSEILDISPCSFGGVSVITPGTNASSEVAVLYQD\n",
    "VNCTDVSTAIHADQLTPAWRIYSTGNNVFQTQAGCLIGAEHVDTSYECDIPIGAGICASY\n",
    "HTVSLLRSTSQKSIVAYTMSLGADSSIAYSNNTIAIPTNFSISITTEVMPVSMAKTSVDC\n",
    "NMYICGDSTECANLLLQYGSFCTQLNRALSGIAAEQDRNTREVFAQVKQMYKTPTLKYFG\n",
    "GFNFSQILPDPLKPTKRSFIEDLLFNKVTLADAGFMKQYGECLGDINARDLICAQKFNGL\n",
    "TVLPPLLTDDMIAAYTAALVSGTATAGWTFGAGAALQIPFAMQMAYRFNGIGVTQNVLYE\n",
    "NQKQIANQFNKAISQIQESLTTTSTALGKLQDVVNQNAQALNTLVKQLSSNFGAISSVLN\n",
    "DILSRLDKVEAEVQIDRLITGRLQSLQTYVTQQLIRAAEIRASANLAATKMSECVLGQSK\n",
    "RVDFCGKGYHLMSFPQAAPHGVVFLHVTYVPSQERNFTTAPAICHEGKAYFPREGVFVFN\n",
    "GTSWFITQRNFFSPQIITTDNTFVSGNCDVVIGIINNTVYDPLQPELDSFKEELDKYFKN\n",
    "HTSPDVDLGDISGINASVVNIQKEIDRLNEVAKNLNESLIDLQELGKYEQYIKWPWYVWL\n",
    "GFIAGLIAIVMVTILLCCMTSCCSCLKGACSCGSCCKFDEDDSEPVLKGVKLHYT\"\"\".replace(\"\\n\", \"\")"
   ]
  },
  {
   "cell_type": "code",
   "execution_count": 23,
   "metadata": {},
   "outputs": [
    {
     "data": {
      "text/plain": [
       "(1273, 1255)"
      ]
     },
     "execution_count": 23,
     "metadata": {},
     "output_type": "execute_result"
    }
   ],
   "source": [
    "len(spike_v2), len(spike_v1)"
   ]
  },
  {
   "cell_type": "code",
   "execution_count": 24,
   "metadata": {},
   "outputs": [],
   "source": [
    "# https://www.ncbi.nlm.nih.gov/gene/43740569\n",
    "# orf3a protein found in Sars-cov-2.\n",
    "\n",
    "orf3a_v2 = translation(corona[25392:26220], True)"
   ]
  },
  {
   "cell_type": "code",
   "execution_count": 25,
   "metadata": {},
   "outputs": [],
   "source": [
    "# https://www.uniprot.org/uniprot/J9TEM7\n",
    "\n",
    "orf3a_v1 = \"\"\"MDLFMRFFTLXSITAQPVKIDNASXASTVHATATIPLQASLPFGWLVIGVAFLAVFQSAT\n",
    "KIIALNKRWQLALYKGFQFICNLLLLFVTIYSHLLLVAAGMEAQFLYLYALIYFLQCINA\n",
    "CRIIMRCWLCWKCKSKNPLLYDANYFVCWHTHNYDYCIPYNSVTDTIVVTEGDGISTPKL\n",
    "KEDYQIGGYSEDRHSGVKDYVVVHGYFTEVYYQLESTQITTDTGIENATFFIFNKLVKDP\n",
    "PNVQIHTIDGSSGVANPAMDPIYDEPTTTTSVPL\"\"\".replace(\"\\n\", \"\");"
   ]
  },
  {
   "cell_type": "code",
   "execution_count": 26,
   "metadata": {},
   "outputs": [
    {
     "data": {
      "text/plain": [
       "(275, 274)"
      ]
     },
     "execution_count": 26,
     "metadata": {},
     "output_type": "execute_result"
    }
   ],
   "source": [
    "len(orf3a_v2), len(orf3a_v1)"
   ]
  },
  {
   "cell_type": "markdown",
   "metadata": {},
   "source": [
    "By now, you must have seen that there is a very little change in the corresponding protein lengths of SARS-CoV and SARS-CoV-2. So, **Can we say - there isn't much difference between the proteins of two viruses?** And the answer is - **NO!** \n",
    "\n",
    "This is because - length of the proteins is not the accurate measure of how dissimilar they are. So now we have another question.\n",
    "\n",
    "### Q. 3 How much different is the protein of this novel coronavirus as compared to the older one?\n",
    "\n",
    "The answer is - **The Edit Distance.** In computational linguistics and computer science, edit distance is a way of quantifying how dissimilar two strings (e.g., words) are to one another by counting the minimum number of operations required to transform one string into the other. In bioinformatics, it can be used to quantify the similarity of DNA sequences, which can be viewed as strings of the letters A, C, G and T. \n",
    "\n",
    "Source: https://en.wikipedia.org/wiki/Edit_distance\n",
    "\n",
    "Let's calculate the edit distance of the genomes of the two versions of coronaviruses. \n",
    "\n",
    "Source of complete genome of old coronavirus: https://www.ncbi.nlm.nih.gov/nuccore/30271926"
   ]
  },
  {
   "cell_type": "code",
   "execution_count": 27,
   "metadata": {},
   "outputs": [],
   "source": [
    "old_corona = \"\"\"1 atattaggtt tttacctacc caggaaaagc caaccaacct cgatctcttg tagatctgtt\n",
    "       61 ctctaaacga actttaaaat ctgtgtagct gtcgctcggc tgcatgccta gtgcacctac\n",
    "      121 gcagtataaa caataataaa ttttactgtc gttgacaaga aacgagtaac tcgtccctct\n",
    "      181 tctgcagact gcttacggtt tcgtccgtgt tgcagtcgat catcagcata cctaggtttc\n",
    "      241 gtccgggtgt gaccgaaagg taagatggag agccttgttc ttggtgtcaa cgagaaaaca\n",
    "      301 cacgtccaac tcagtttgcc tgtccttcag gttagagacg tgctagtgcg tggcttcggg\n",
    "      361 gactctgtgg aagaggccct atcggaggca cgtgaacacc tcaaaaatgg cacttgtggt\n",
    "      421 ctagtagagc tggaaaaagg cgtactgccc cagcttgaac agccctatgt gttcattaaa\n",
    "      481 cgttctgatg ccttaagcac caatcacggc cacaaggtcg ttgagctggt tgcagaaatg\n",
    "      541 gacggcattc agtacggtcg tagcggtata acactgggag tactcgtgcc acatgtgggc\n",
    "      601 gaaaccccaa ttgcataccg caatgttctt cttcgtaaga acggtaataa gggagccggt\n",
    "      661 ggtcatagct atggcatcga tctaaagtct tatgacttag gtgacgagct tggcactgat\n",
    "      721 cccattgaag attatgaaca aaactggaac actaagcatg gcagtggtgc actccgtgaa\n",
    "      781 ctcactcgtg agctcaatgg aggtgcagtc actcgctatg tcgacaacaa tttctgtggc\n",
    "      841 ccagatgggt accctcttga ttgcatcaaa gattttctcg cacgcgcggg caagtcaatg\n",
    "      901 tgcactcttt ccgaacaact tgattacatc gagtcgaaga gaggtgtcta ctgctgccgt\n",
    "      961 gaccatgagc atgaaattgc ctggttcact gagcgctctg ataagagcta cgagcaccag\n",
    "     1021 acacccttcg aaattaagag tgccaagaaa tttgacactt tcaaagggga atgcccaaag\n",
    "     1081 tttgtgtttc ctcttaactc aaaagtcaaa gtcattcaac cacgtgttga aaagaaaaag\n",
    "     1141 actgagggtt tcatggggcg tatacgctct gtgtaccctg ttgcatctcc acaggagtgt\n",
    "     1201 aacaatatgc acttgtctac cttgatgaaa tgtaatcatt gcgatgaagt ttcatggcag\n",
    "     1261 acgtgcgact ttctgaaagc cacttgtgaa cattgtggca ctgaaaattt agttattgaa\n",
    "     1321 ggacctacta catgtgggta cctacctact aatgctgtag tgaaaatgcc atgtcctgcc\n",
    "     1381 tgtcaagacc cagagattgg acctgagcat agtgttgcag attatcacaa ccactcaaac\n",
    "     1441 attgaaactc gactccgcaa gggaggtagg actagatgtt ttggaggctg tgtgtttgcc\n",
    "     1501 tatgttggct gctataataa gcgtgcctac tgggttcctc gtgctagtgc tgatattggc\n",
    "     1561 tcaggccata ctggcattac tggtgacaat gtggagacct tgaatgagga tctccttgag\n",
    "     1621 atactgagtc gtgaacgtgt taacattaac attgttggcg attttcattt gaatgaagag\n",
    "     1681 gttgccatca ttttggcatc tttctctgct tctacaagtg cctttattga cactataaag\n",
    "     1741 agtcttgatt acaagtcttt caaaaccatt gttgagtcct gcggtaacta taaagttacc\n",
    "     1801 aagggaaagc ccgtaaaagg tgcttggaac attggacaac agagatcagt tttaacacca\n",
    "     1861 ctgtgtggtt ttccctcaca ggctgctggt gttatcagat caatttttgc gcgcacactt\n",
    "     1921 gatgcagcaa accactcaat tcctgatttg caaagagcag ctgtcaccat acttgatggt\n",
    "     1981 atttctgaac agtcattacg tcttgtcgac gccatggttt atacttcaga cctgctcacc\n",
    "     2041 aacagtgtca ttattatggc atatgtaact ggtggtcttg tacaacagac ttctcagtgg\n",
    "     2101 ttgtctaatc ttttgggcac tactgttgaa aaactcaggc ctatctttga atggattgag\n",
    "     2161 gcgaaactta gtgcaggagt tgaatttctc aaggatgctt gggagattct caaatttctc\n",
    "     2221 attacaggtg tttttgacat cgtcaagggt caaatacagg ttgcttcaga taacatcaag\n",
    "     2281 gattgtgtaa aatgcttcat tgatgttgtt aacaaggcac tcgaaatgtg cattgatcaa\n",
    "     2341 gtcactatcg ctggcgcaaa gttgcgatca ctcaacttag gtgaagtctt catcgctcaa\n",
    "     2401 agcaagggac tttaccgtca gtgtatacgt ggcaaggagc agctgcaact actcatgcct\n",
    "     2461 cttaaggcac caaaagaagt aacctttctt gaaggtgatt cacatgacac agtacttacc\n",
    "     2521 tctgaggagg ttgttctcaa gaacggtgaa ctcgaagcac tcgagacgcc cgttgatagc\n",
    "     2581 ttcacaaatg gagctatcgt tggcacacca gtctgtgtaa atggcctcat gctcttagag\n",
    "     2641 attaaggaca aagaacaata ctgcgcattg tctcctggtt tactggctac aaacaatgtc\n",
    "     2701 tttcgcttaa aagggggtgc accaattaaa ggtgtaacct ttggagaaga tactgtttgg\n",
    "     2761 gaagttcaag gttacaagaa tgtgagaatc acatttgagc ttgatgaacg tgttgacaaa\n",
    "     2821 gtgcttaatg aaaagtgctc tgtctacact gttgaatccg gtaccgaagt tactgagttt\n",
    "     2881 gcatgtgttg tagcagaggc tgttgtgaag actttacaac cagtttctga tctccttacc\n",
    "     2941 aacatgggta ttgatcttga tgagtggagt gtagctacat tctacttatt tgatgatgct\n",
    "     3001 ggtgaagaaa acttttcatc acgtatgtat tgttcctttt accctccaga tgaggaagaa\n",
    "     3061 gaggacgatg cagagtgtga ggaagaagaa attgatgaaa cctgtgaaca tgagtacggt\n",
    "     3121 acagaggatg attatcaagg tctccctctg gaatttggtg cctcagctga aacagttcga\n",
    "     3181 gttgaggaag aagaagagga agactggctg gatgatacta ctgagcaatc agagattgag\n",
    "     3241 ccagaaccag aacctacacc tgaagaacca gttaatcagt ttactggtta tttaaaactt\n",
    "     3301 actgacaatg ttgccattaa atgtgttgac atcgttaagg aggcacaaag tgctaatcct\n",
    "     3361 atggtgattg taaatgctgc taacatacac ctgaaacatg gtggtggtgt agcaggtgca\n",
    "     3421 ctcaacaagg caaccaatgg tgccatgcaa aaggagagtg atgattacat taagctaaat\n",
    "     3481 ggccctctta cagtaggagg gtcttgtttg ctttctggac ataatcttgc taagaagtgt\n",
    "     3541 ctgcatgttg ttggacctaa cctaaatgca ggtgaggaca tccagcttct taaggcagca\n",
    "     3601 tatgaaaatt tcaattcaca ggacatctta cttgcaccat tgttgtcagc aggcatattt\n",
    "     3661 ggtgctaaac cacttcagtc tttacaagtg tgcgtgcaga cggttcgtac acaggtttat\n",
    "     3721 attgcagtca atgacaaagc tctttatgag caggttgtca tggattatct tgataacctg\n",
    "     3781 aagcctagag tggaagcacc taaacaagag gagccaccaa acacagaaga ttccaaaact\n",
    "     3841 gaggagaaat ctgtcgtaca gaagcctgtc gatgtgaagc caaaaattaa ggcctgcatt\n",
    "     3901 gatgaggtta ccacaacact ggaagaaact aagtttctta ccaataagtt actcttgttt\n",
    "     3961 gctgatatca atggtaagct ttaccatgat tctcagaaca tgcttagagg tgaagatatg\n",
    "     4021 tctttccttg agaaggatgc accttacatg gtaggtgatg ttatcactag tggtgatatc\n",
    "     4081 acttgtgttg taataccctc caaaaaggct ggtggcacta ctgagatgct ctcaagagct\n",
    "     4141 ttgaagaaag tgccagttga tgagtatata accacgtacc ctggacaagg atgtgctggt\n",
    "     4201 tatacacttg aggaagctaa gactgctctt aagaaatgca aatctgcatt ttatgtacta\n",
    "     4261 ccttcagaag cacctaatgc taaggaagag attctaggaa ctgtatcctg gaatttgaga\n",
    "     4321 gaaatgcttg ctcatgctga agagacaaga aaattaatgc ctatatgcat ggatgttaga\n",
    "     4381 gccataatgg caaccatcca acgtaagtat aaaggaatta aaattcaaga gggcatcgtt\n",
    "     4441 gactatggtg tccgattctt cttttatact agtaaagagc ctgtagcttc tattattacg\n",
    "     4501 aagctgaact ctctaaatga gccgcttgtc acaatgccaa ttggttatgt gacacatggt\n",
    "     4561 tttaatcttg aagaggctgc gcgctgtatg cgttctctta aagctcctgc cgtagtgtca\n",
    "     4621 gtatcatcac cagatgctgt tactacatat aatggatacc tcacttcgtc atcaaagaca\n",
    "     4681 tctgaggagc actttgtaga aacagtttct ttggctggct cttacagaga ttggtcctat\n",
    "     4741 tcaggacagc gtacagagtt aggtgttgaa tttcttaagc gtggtgacaa aattgtgtac\n",
    "     4801 cacactctgg agagccccgt cgagtttcat cttgacggtg aggttctttc acttgacaaa\n",
    "     4861 ctaaagagtc tcttatccct gcgggaggtt aagactataa aagtgttcac aactgtggac\n",
    "     4921 aacactaatc tccacacaca gcttgtggat atgtctatga catatggaca gcagtttggt\n",
    "     4981 ccaacatact tggatggtgc tgatgttaca aaaattaaac ctcatgtaaa tcatgagggt\n",
    "     5041 aagactttct ttgtactacc tagtgatgac acactacgta gtgaagcttt cgagtactac\n",
    "     5101 catactcttg atgagagttt tcttggtagg tacatgtctg ctttaaacca cacaaagaaa\n",
    "     5161 tggaaatttc ctcaagttgg tggtttaact tcaattaaat gggctgataa caattgttat\n",
    "     5221 ttgtctagtg ttttattagc acttcaacag cttgaagtca aattcaatgc accagcactt\n",
    "     5281 caagaggctt attatagagc ccgtgctggt gatgctgcta acttttgtgc actcatactc\n",
    "     5341 gcttacagta ataaaactgt tggcgagctt ggtgatgtca gagaaactat gacccatctt\n",
    "     5401 ctacagcatg ctaatttgga atctgcaaag cgagttctta atgtggtgtg taaacattgt\n",
    "     5461 ggtcagaaaa ctactacctt aacgggtgta gaagctgtga tgtatatggg tactctatct\n",
    "     5521 tatgataatc ttaagacagg tgtttccatt ccatgtgtgt gtggtcgtga tgctacacaa\n",
    "     5581 tatctagtac aacaagagtc ttcttttgtt atgatgtctg caccacctgc tgagtataaa\n",
    "     5641 ttacagcaag gtacattctt atgtgcgaat gagtacactg gtaactatca gtgtggtcat\n",
    "     5701 tacactcata taactgctaa ggagaccctc tatcgtattg acggagctca ccttacaaag\n",
    "     5761 atgtcagagt acaaaggacc agtgactgat gttttctaca aggaaacatc ttacactaca\n",
    "     5821 accatcaagc ctgtgtcgta taaactcgat ggagttactt acacagagat tgaaccaaaa\n",
    "     5881 ttggatgggt attataaaaa ggataatgct tactatacag agcagcctat agaccttgta\n",
    "     5941 ccaactcaac cattaccaaa tgcgagtttt gataatttca aactcacatg ttctaacaca\n",
    "     6001 aaatttgctg atgatttaaa tcaaatgaca ggcttcacaa agccagcttc acgagagcta\n",
    "     6061 tctgtcacat tcttcccaga cttgaatggc gatgtagtgg ctattgacta tagacactat\n",
    "     6121 tcagcgagtt tcaagaaagg tgctaaatta ctgcataagc caattgtttg gcacattaac\n",
    "     6181 caggctacaa ccaagacaac gttcaaacca aacacttggt gtttacgttg tctttggagt\n",
    "     6241 acaaagccag tagatacttc aaattcattt gaagttctgg cagtagaaga cacacaagga\n",
    "     6301 atggacaatc ttgcttgtga aagtcaacaa cccacctctg aagaagtagt ggaaaatcct\n",
    "     6361 accatacaga aggaagtcat agagtgtgac gtgaaaacta ccgaagttgt aggcaatgtc\n",
    "     6421 atacttaaac catcagatga aggtgttaaa gtaacacaag agttaggtca tgaggatctt\n",
    "     6481 atggctgctt atgtggaaaa cacaagcatt accattaaga aacctaatga gctttcacta\n",
    "     6541 gccttaggtt taaaaacaat tgccactcat ggtattgctg caattaatag tgttccttgg\n",
    "     6601 agtaaaattt tggcttatgt caaaccattc ttaggacaag cagcaattac aacatcaaat\n",
    "     6661 tgcgctaaga gattagcaca acgtgtgttt aacaattata tgccttatgt gtttacatta\n",
    "     6721 ttgttccaat tgtgtacttt tactaaaagt accaattcta gaattagagc ttcactacct\n",
    "     6781 acaactattg ctaaaaatag tgttaagagt gttgctaaat tatgtttgga tgccggcatt\n",
    "     6841 aattatgtga agtcacccaa attttctaaa ttgttcacaa tcgctatgtg gctattgttg\n",
    "     6901 ttaagtattt gcttaggttc tctaatctgt gtaactgctg cttttggtgt actcttatct\n",
    "     6961 aattttggtg ctccttctta ttgtaatggc gttagagaat tgtatcttaa ttcgtctaac\n",
    "     7021 gttactacta tggatttctg tgaaggttct tttccttgca gcatttgttt aagtggatta\n",
    "     7081 gactcccttg attcttatcc agctcttgaa accattcagg tgacgatttc atcgtacaag\n",
    "     7141 ctagacttga caattttagg tctggccgct gagtgggttt tggcatatat gttgttcaca\n",
    "     7201 aaattctttt atttattagg tctttcagct ataatgcagg tgttctttgg ctattttgct\n",
    "     7261 agtcatttca tcagcaattc ttggctcatg tggtttatca ttagtattgt acaaatggca\n",
    "     7321 cccgtttctg caatggttag gatgtacatc ttctttgctt ctttctacta catatggaag\n",
    "     7381 agctatgttc atatcatgga tggttgcacc tcttcgactt gcatgatgtg ctataagcgc\n",
    "     7441 aatcgtgcca cacgcgttga gtgtacaact attgttaatg gcatgaagag atctttctat\n",
    "     7501 gtctatgcaa atggaggccg tggcttctgc aagactcaca attggaattg tctcaattgt\n",
    "     7561 gacacatttt gcactggtag tacattcatt agtgatgaag ttgctcgtga tttgtcactc\n",
    "     7621 cagtttaaaa gaccaatcaa ccctactgac cagtcatcgt atattgttga tagtgttgct\n",
    "     7681 gtgaaaaatg gcgcgcttca cctctacttt gacaaggctg gtcaaaagac ctatgagaga\n",
    "     7741 catccgctct cccattttgt caatttagac aatttgagag ctaacaacac taaaggttca\n",
    "     7801 ctgcctatta atgtcatagt ttttgatggc aagtccaaat gcgacgagtc tgcttctaag\n",
    "     7861 tctgcttctg tgtactacag tcagctgatg tgccaaccta ttctgttgct tgaccaagct\n",
    "     7921 cttgtatcag acgttggaga tagtactgaa gtttccgtta agatgtttga tgcttatgtc\n",
    "     7981 gacacctttt cagcaacttt tagtgttcct atggaaaaac ttaaggcact tgttgctaca\n",
    "     8041 gctcacagcg agttagcaaa gggtgtagct ttagatggtg tcctttctac attcgtgtca\n",
    "     8101 gctgcccgac aaggtgttgt tgataccgat gttgacacaa aggatgttat tgaatgtctc\n",
    "     8161 aaactttcac atcactctga cttagaagtg acaggtgaca gttgtaacaa tttcatgctc\n",
    "     8221 acctataata aggttgaaaa catgacgccc agagatcttg gcgcatgtat tgactgtaat\n",
    "     8281 gcaaggcata tcaatgccca agtagcaaaa agtcacaatg tttcactcat ctggaatgta\n",
    "     8341 aaagactaca tgtctttatc tgaacagctg cgtaaacaaa ttcgtagtgc tgccaagaag\n",
    "     8401 aacaacatac cttttagact aacttgtgct acaactagac aggttgtcaa tgtcataact\n",
    "     8461 actaaaatct cactcaaggg tggtaagatt gttagtactt gttttaaact tatgcttaag\n",
    "     8521 gccacattat tgtgcgttct tgctgcattg gtttgttata tcgttatgcc agtacataca\n",
    "     8581 ttgtcaatcc atgatggtta cacaaatgaa atcattggtt acaaagccat tcaggatggt\n",
    "     8641 gtcactcgtg acatcatttc tactgatgat tgttttgcaa ataaacatgc tggttttgac\n",
    "     8701 gcatggttta gccagcgtgg tggttcatac aaaaatgaca aaagctgccc tgtagtagct\n",
    "     8761 gctatcatta caagagagat tggtttcata gtgcctggct taccgggtac tgtgctgaga\n",
    "     8821 gcaatcaatg gtgacttctt gcattttcta cctcgtgttt ttagtgctgt tggcaacatt\n",
    "     8881 tgctacacac cttccaaact cattgagtat agtgattttg ctacctctgc ttgcgttctt\n",
    "     8941 gctgctgagt gtacaatttt taaggatgct atgggcaaac ctgtgccata ttgttatgac\n",
    "     9001 actaatttgc tagagggttc tatttcttat agtgagcttc gtccagacac tcgttatgtg\n",
    "     9061 cttatggatg gttccatcat acagtttcct aacacttacc tggagggttc tgttagagta\n",
    "     9121 gtaacaactt ttgatgctga gtactgtaga catggtacat gcgaaaggtc agaagtaggt\n",
    "     9181 atttgcctat ctaccagtgg tagatgggtt cttaataatg agcattacag agctctatca\n",
    "     9241 ggagttttct gtggtgttga tgcgatgaat ctcatagcta acatctttac tcctcttgtg\n",
    "     9301 caacctgtgg gtgctttaga tgtgtctgct tcagtagtgg ctggtggtat tattgccata\n",
    "     9361 ttggtgactt gtgctgccta ctactttatg aaattcagac gtgtttttgg tgagtacaac\n",
    "     9421 catgttgttg ctgctaatgc acttttgttt ttgatgtctt tcactatact ctgtctggta\n",
    "     9481 ccagcttaca gctttctgcc gggagtctac tcagtctttt acttgtactt gacattctat\n",
    "     9541 ttcaccaatg atgtttcatt cttggctcac cttcaatggt ttgccatgtt ttctcctatt\n",
    "     9601 gtgccttttt ggataacagc aatctatgta ttctgtattt ctctgaagca ctgccattgg\n",
    "     9661 ttctttaaca actatcttag gaaaagagtc atgtttaatg gagttacatt tagtaccttc\n",
    "     9721 gaggaggctg ctttgtgtac ctttttgctc aacaaggaaa tgtacctaaa attgcgtagc\n",
    "     9781 gagacactgt tgccacttac acagtataac aggtatcttg ctctatataa caagtacaag\n",
    "     9841 tatttcagtg gagccttaga tactaccagc tatcgtgaag cagcttgctg ccacttagca\n",
    "     9901 aaggctctaa atgactttag caactcaggt gctgatgttc tctaccaacc accacagaca\n",
    "     9961 tcaatcactt ctgctgttct gcagagtggt tttaggaaaa tggcattccc gtcaggcaaa\n",
    "    10021 gttgaagggt gcatggtaca agtaacctgt ggaactacaa ctcttaatgg attgtggttg\n",
    "    10081 gatgacacag tatactgtcc aagacatgtc atttgcacag cagaagacat gcttaatcct\n",
    "    10141 aactatgaag atctgctcat tcgcaaatcc aaccatagct ttcttgttca ggctggcaat\n",
    "    10201 gttcaacttc gtgttattgg ccattctatg caaaattgtc tgcttaggct taaagttgat\n",
    "    10261 acttctaacc ctaagacacc caagtataaa tttgtccgta tccaacctgg tcaaacattt\n",
    "    10321 tcagttctag catgctacaa tggttcacca tctggtgttt atcagtgtgc catgagacct\n",
    "    10381 aatcatacca ttaaaggttc tttccttaat ggatcatgtg gtagtgttgg ttttaacatt\n",
    "    10441 gattatgatt gcgtgtcttt ctgctatatg catcatatgg agcttccaac aggagtacac\n",
    "    10501 gctggtactg acttagaagg taaattctat ggtccatttg ttgacagaca aactgcacag\n",
    "    10561 gctgcaggta cagacacaac cataacatta aatgttttgg catggctgta tgctgctgtt\n",
    "    10621 atcaatggtg ataggtggtt tcttaataga ttcaccacta ctttgaatga ctttaacctt\n",
    "    10681 gtggcaatga agtacaacta tgaacctttg acacaagatc atgttgacat attgggacct\n",
    "    10741 ctttctgctc aaacaggaat tgccgtctta gatatgtgtg ctgctttgaa agagctgctg\n",
    "    10801 cagaatggta tgaatggtcg tactatcctt ggtagcacta ttttagaaga tgagtttaca\n",
    "    10861 ccatttgatg ttgttagaca atgctctggt gttaccttcc aaggtaagtt caagaaaatt\n",
    "    10921 gttaagggca ctcatcattg gatgctttta actttcttga catcactatt gattcttgtt\n",
    "    10981 caaagtacac agtggtcact gtttttcttt gtttacgaga atgctttctt gccatttact\n",
    "    11041 cttggtatta tggcaattgc tgcatgtgct atgctgcttg ttaagcataa gcacgcattc\n",
    "    11101 ttgtgcttgt ttctgttacc ttctcttgca acagttgctt actttaatat ggtctacatg\n",
    "    11161 cctgctagct gggtgatgcg tatcatgaca tggcttgaat tggctgacac tagcttgtct\n",
    "    11221 ggttataggc ttaaggattg tgttatgtat gcttcagctt tagttttgct tattctcatg\n",
    "    11281 acagctcgca ctgtttatga tgatgctgct agacgtgttt ggacactgat gaatgtcatt\n",
    "    11341 acacttgttt acaaagtcta ctatggtaat gctttagatc aagctatttc catgtgggcc\n",
    "    11401 ttagttattt ctgtaacctc taactattct ggtgtcgtta cgactatcat gtttttagct\n",
    "    11461 agagctatag tgtttgtgtg tgttgagtat tacccattgt tatttattac tggcaacacc\n",
    "    11521 ttacagtgta tcatgcttgt ttattgtttc ttaggctatt gttgctgctg ctactttggc\n",
    "    11581 cttttctgtt tactcaaccg ttacttcagg cttactcttg gtgtttatga ctacttggtc\n",
    "    11641 tctacacaag aatttaggta tatgaactcc caggggcttt tgcctcctaa gagtagtatt\n",
    "    11701 gatgctttca agcttaacat taagttgttg ggtattggag gtaaaccatg tatcaaggtt\n",
    "    11761 gctactgtac agtctaaaat gtctgacgta aagtgcacat ctgtggtact gctctcggtt\n",
    "    11821 cttcaacaac ttagagtaga gtcatcttct aaattgtggg cacaatgtgt acaactccac\n",
    "    11881 aatgatattc ttcttgcaaa agacacaact gaagctttcg agaagatggt ttctcttttg\n",
    "    11941 tctgttttgc tatccatgca gggtgctgta gacattaata ggttgtgcga ggaaatgctc\n",
    "    12001 gataaccgtg ctactcttca ggctattgct tcagaattta gttctttacc atcatatgcc\n",
    "    12061 gcttatgcca ctgcccagga ggcctatgag caggctgtag ctaatggtga ttctgaagtc\n",
    "    12121 gttctcaaaa agttaaagaa atctttgaat gtggctaaat ctgagtttga ccgtgatgct\n",
    "    12181 gccatgcaac gcaagttgga aaagatggca gatcaggcta tgacccaaat gtacaaacag\n",
    "    12241 gcaagatctg aggacaagag ggcaaaagta actagtgcta tgcaaacaat gctcttcact\n",
    "    12301 atgcttagga agcttgataa tgatgcactt aacaacatta tcaacaatgc gcgtgatggt\n",
    "    12361 tgtgttccac tcaacatcat accattgact acagcagcca aactcatggt tgttgtccct\n",
    "    12421 gattatggta cctacaagaa cacttgtgat ggtaacacct ttacatatgc atctgcactc\n",
    "    12481 tgggaaatcc agcaagttgt tgatgcggat agcaagattg ttcaacttag tgaaattaac\n",
    "    12541 atggacaatt caccaaattt ggcttggcct cttattgtta cagctctaag agccaactca\n",
    "    12601 gctgttaaac tacagaataa tgaactgagt ccagtagcac tacgacagat gtcctgtgcg\n",
    "    12661 gctggtacca cacaaacagc ttgtactgat gacaatgcac ttgcctacta taacaattcg\n",
    "    12721 aagggaggta ggtttgtgct ggcattacta tcagaccacc aagatctcaa atgggctaga\n",
    "    12781 ttccctaaga gtgatggtac aggtacaatt tacacagaac tggaaccacc ttgtaggttt\n",
    "    12841 gttacagaca caccaaaagg gcctaaagtg aaatacttgt acttcatcaa aggcttaaac\n",
    "    12901 aacctaaata gaggtatggt gctgggcagt ttagctgcta cagtacgtct tcaggctgga\n",
    "    12961 aatgctacag aagtacctgc caattcaact gtgctttcct tctgtgcttt tgcagtagac\n",
    "    13021 cctgctaaag catataagga ttacctagca agtggaggac aaccaatcac caactgtgtg\n",
    "    13081 aagatgttgt gtacacacac tggtacagga caggcaatta ctgtaacacc agaagctaac\n",
    "    13141 atggaccaag agtcctttgg tggtgcttca tgttgtctgt attgtagatg ccacattgac\n",
    "    13201 catccaaatc ctaaaggatt ctgtgacttg aaaggtaagt acgtccaaat acctaccact\n",
    "    13261 tgtgctaatg acccagtggg ttttacactt agaaacacag tctgtaccgt ctgcggaatg\n",
    "    13321 tggaaaggtt atggctgtag ttgtgaccaa ctccgcgaac ccttgatgca gtctgcggat\n",
    "    13381 gcatcaacgt ttttaaacgg gtttgcggtg taagtgcagc ccgtcttaca ccgtgcggca\n",
    "    13441 caggcactag tactgatgtc gtctacaggg cttttgatat ttacaacgaa aaagttgctg\n",
    "    13501 gttttgcaaa gttcctaaaa actaattgct gtcgcttcca ggagaaggat gaggaaggca\n",
    "    13561 atttattaga ctcttacttt gtagttaaga ggcatactat gtctaactac caacatgaag\n",
    "    13621 agactattta taacttggtt aaagattgtc cagcggttgc tgtccatgac tttttcaagt\n",
    "    13681 ttagagtaga tggtgacatg gtaccacata tatcacgtca gcgtctaact aaatacacaa\n",
    "    13741 tggctgattt agtctatgct ctacgtcatt ttgatgaggg taattgtgat acattaaaag\n",
    "    13801 aaatactcgt cacatacaat tgctgtgatg atgattattt caataagaag gattggtatg\n",
    "    13861 acttcgtaga gaatcctgac atcttacgcg tatatgctaa cttaggtgag cgtgtacgcc\n",
    "    13921 aatcattatt aaagactgta caattctgcg atgctatgcg tgatgcaggc attgtaggcg\n",
    "    13981 tactgacatt agataatcag gatcttaatg ggaactggta cgatttcggt gatttcgtac\n",
    "    14041 aagtagcacc aggctgcgga gttcctattg tggattcata ttactcattg ctgatgccca\n",
    "    14101 tcctcacttt gactagggca ttggctgctg agtcccatat ggatgctgat ctcgcaaaac\n",
    "    14161 cacttattaa gtgggatttg ctgaaatatg attttacgga agagagactt tgtctcttcg\n",
    "    14221 accgttattt taaatattgg gaccagacat accatcccaa ttgtattaac tgtttggatg\n",
    "    14281 ataggtgtat ccttcattgt gcaaacttta atgtgttatt ttctactgtg tttccaccta\n",
    "    14341 caagttttgg accactagta agaaaaatat ttgtagatgg tgttcctttt gttgtttcaa\n",
    "    14401 ctggatacca ttttcgtgag ttaggagtcg tacataatca ggatgtaaac ttacatagct\n",
    "    14461 cgcgtctcag tttcaaggaa cttttagtgt atgctgctga tccagctatg catgcagctt\n",
    "    14521 ctggcaattt attgctagat aaacgcacta catgcttttc agtagctgca ctaacaaaca\n",
    "    14581 atgttgcttt tcaaactgtc aaacccggta attttaataa agacttttat gactttgctg\n",
    "    14641 tgtctaaagg tttctttaag gaaggaagtt ctgttgaact aaaacacttc ttctttgctc\n",
    "    14701 aggatggcaa cgctgctatc agtgattatg actattatcg ttataatctg ccaacaatgt\n",
    "    14761 gtgatatcag acaactccta ttcgtagttg aagttgttga taaatacttt gattgttacg\n",
    "    14821 atggtggctg tattaatgcc aaccaagtaa tcgttaacaa tctggataaa tcagctggtt\n",
    "    14881 tcccatttaa taaatggggt aaggctagac tttattatga ctcaatgagt tatgaggatc\n",
    "    14941 aagatgcact tttcgcgtat actaagcgta atgtcatccc tactataact caaatgaatc\n",
    "    15001 ttaagtatgc cattagtgca aagaatagag ctcgcaccgt agctggtgtc tctatctgta\n",
    "    15061 gtactatgac aaatagacag tttcatcaga aattattgaa gtcaatagcc gccactagag\n",
    "    15121 gagctactgt ggtaattgga acaagcaagt tttacggtgg ctggcataat atgttaaaaa\n",
    "    15181 ctgtttacag tgatgtagaa actccacacc ttatgggttg ggattatcca aaatgtgaca\n",
    "    15241 gagccatgcc taacatgctt aggataatgg cctctcttgt tcttgctcgc aaacataaca\n",
    "    15301 cttgctgtaa cttatcacac cgtttctaca ggttagctaa cgagtgtgcg caagtattaa\n",
    "    15361 gtgagatggt catgtgtggc ggctcactat atgttaaacc aggtggaaca tcatccggtg\n",
    "    15421 atgctacaac tgcttatgct aatagtgtct ttaacatttg tcaagctgtt acagccaatg\n",
    "    15481 taaatgcact tctttcaact gatggtaata agatagctga caagtatgtc cgcaatctac\n",
    "    15541 aacacaggct ctatgagtgt ctctatagaa atagggatgt tgatcatgaa ttcgtggatg\n",
    "    15601 agttttacgc ttacctgcgt aaacatttct ccatgatgat tctttctgat gatgccgttg\n",
    "    15661 tgtgctataa cagtaactat gcggctcaag gtttagtagc tagcattaag aactttaagg\n",
    "    15721 cagttcttta ttatcaaaat aatgtgttca tgtctgaggc aaaatgttgg actgagactg\n",
    "    15781 accttactaa aggacctcac gaattttgct cacagcatac aatgctagtt aaacaaggag\n",
    "    15841 atgattacgt gtacctgcct tacccagatc catcaagaat attaggcgca ggctgttttg\n",
    "    15901 tcgatgatat tgtcaaaaca gatggtacac ttatgattga aaggttcgtg tcactggcta\n",
    "    15961 ttgatgctta cccacttaca aaacatccta atcaggagta tgctgatgtc tttcacttgt\n",
    "    16021 atttacaata cattagaaag ttacatgatg agcttactgg ccacatgttg gacatgtatt\n",
    "    16081 ccgtaatgct aactaatgat aacacctcac ggtactggga acctgagttt tatgaggcta\n",
    "    16141 tgtacacacc acatacagtc ttgcaggctg taggtgcttg tgtattgtgc aattcacaga\n",
    "    16201 cttcacttcg ttgcggtgcc tgtattagga gaccattcct atgttgcaag tgctgctatg\n",
    "    16261 accatgtcat ttcaacatca cacaaattag tgttgtctgt taatccctat gtttgcaatg\n",
    "    16321 ccccaggttg tgatgtcact gatgtgacac aactgtatct aggaggtatg agctattatt\n",
    "    16381 gcaagtcaca taagcctccc attagttttc cattatgtgc taatggtcag gtttttggtt\n",
    "    16441 tatacaaaaa cacatgtgta ggcagtgaca atgtcactga cttcaatgcg atagcaacat\n",
    "    16501 gtgattggac taatgctggc gattacatac ttgccaacac ttgtactgag agactcaagc\n",
    "    16561 ttttcgcagc agaaacgctc aaagccactg aggaaacatt taagctgtca tatggtattg\n",
    "    16621 ccactgtacg cgaagtactc tctgacagag aattgcatct ttcatgggag gttggaaaac\n",
    "    16681 ctagaccacc attgaacaga aactatgtct ttactggtta ccgtgtaact aaaaatagta\n",
    "    16741 aagtacagat tggagagtac acctttgaaa aaggtgacta tggtgatgct gttgtgtaca\n",
    "    16801 gaggtactac gacatacaag ttgaatgttg gtgattactt tgtgttgaca tctcacactg\n",
    "    16861 taatgccact tagtgcacct actctagtgc cacaagagca ctatgtgaga attactggct\n",
    "    16921 tgtacccaac actcaacatc tcagatgagt tttctagcaa tgttgcaaat tatcaaaagg\n",
    "    16981 tcggcatgca aaagtactct acactccaag gaccacctgg tactggtaag agtcattttg\n",
    "    17041 ccatcggact tgctctctat tacccatctg ctcgcatagt gtatacggca tgctctcatg\n",
    "    17101 cagctgttga tgccctatgt gaaaaggcat taaaatattt gcccatagat aaatgtagta\n",
    "    17161 gaatcatacc tgcgcgtgcg cgcgtagagt gttttgataa attcaaagtg aattcaacac\n",
    "    17221 tagaacagta tgttttctgc actgtaaatg cattgccaga aacaactgct gacattgtag\n",
    "    17281 tctttgatga aatctctatg gctactaatt atgacttgag tgttgtcaat gctagacttc\n",
    "    17341 gtgcaaaaca ctacgtctat attggcgatc ctgctcaatt accagccccc cgcacattgc\n",
    "    17401 tgactaaagg cacactagaa ccagaatatt ttaattcagt gtgcagactt atgaaaacaa\n",
    "    17461 taggtccaga catgttcctt ggaacttgtc gccgttgtcc tgctgaaatt gttgacactg\n",
    "    17521 tgagtgcttt agtttatgac aataagctaa aagcacacaa ggataagtca gctcaatgct\n",
    "    17581 tcaaaatgtt ctacaaaggt gttattacac atgatgtttc atctgcaatc aacagacctc\n",
    "    17641 aaataggcgt tgtaagagaa tttcttacac gcaatcctgc ttggagaaaa gctgttttta\n",
    "    17701 tctcacctta taattcacag aacgctgtag cttcaaaaat cttaggattg cctacgcaga\n",
    "    17761 ctgttgattc atcacagggt tctgaatatg actatgtcat attcacacaa actactgaaa\n",
    "    17821 cagcacactc ttgtaatgtc aaccgcttca atgtggctat cacaagggca aaaattggca\n",
    "    17881 ttttgtgcat aatgtctgat agagatcttt atgacaaact gcaatttaca agtctagaaa\n",
    "    17941 taccacgtcg caatgtggct acattacaag cagaaaatgt aactggactt tttaaggact\n",
    "    18001 gtagtaagat cattactggt cttcatccta cacaggcacc tacacacctc agcgttgata\n",
    "    18061 taaagttcaa gactgaagga ttatgtgttg acataccagg cataccaaag gacatgacct\n",
    "    18121 accgtagact catctctatg atgggtttca aaatgaatta ccaagtcaat ggttacccta\n",
    "    18181 atatgtttat cacccgcgaa gaagctattc gtcacgttcg tgcgtggatt ggctttgatg\n",
    "    18241 tagagggctg tcatgcaact agagatgctg tgggtactaa cctacctctc cagctaggat\n",
    "    18301 tttctacagg tgttaactta gtagctgtac cgactggtta tgttgacact gaaaataaca\n",
    "    18361 cagaattcac cagagttaat gcaaaacctc caccaggtga ccagtttaaa catcttatac\n",
    "    18421 cactcatgta taaaggcttg ccctggaatg tagtgcgtat taagatagta caaatgctca\n",
    "    18481 gtgatacact gaaaggattg tcagacagag tcgtgttcgt cctttgggcg catggctttg\n",
    "    18541 agcttacatc aatgaagtac tttgtcaaga ttggacctga aagaacgtgt tgtctgtgtg\n",
    "    18601 acaaacgtgc aacttgcttt tctacttcat cagatactta tgcctgctgg aatcattctg\n",
    "    18661 tgggttttga ctatgtctat aacccattta tgattgatgt tcagcagtgg ggctttacgg\n",
    "    18721 gtaaccttca gagtaaccat gaccaacatt gccaggtaca tggaaatgca catgtggcta\n",
    "    18781 gttgtgatgc tatcatgact agatgtttag cagtccatga gtgctttgtt aagcgcgttg\n",
    "    18841 attggtctgt tgaataccct attataggag atgaactgag ggttaattct gcttgcagaa\n",
    "    18901 aagtacaaca catggttgtg aagtctgcat tgcttgctga taagtttcca gttcttcatg\n",
    "    18961 acattggaaa tccaaaggct atcaagtgtg tgcctcaggc tgaagtagaa tggaagttct\n",
    "    19021 acgatgctca gccatgtagt gacaaagctt acaaaataga ggaactcttc tattcttatg\n",
    "    19081 ctacacatca cgataaattc actgatggtg tttgtttgtt ttggaattgt aacgttgatc\n",
    "    19141 gttacccagc caatgcaatt gtgtgtaggt ttgacacaag agtcttgtca aacttgaact\n",
    "    19201 taccaggctg tgatggtggt agtttgtatg tgaataagca tgcattccac actccagctt\n",
    "    19261 tcgataaaag tgcatttact aatttaaagc aattgccttt cttttactat tctgatagtc\n",
    "    19321 cttgtgagtc tcatggcaaa caagtagtgt cggatattga ttatgttcca ctcaaatctg\n",
    "    19381 ctacgtgtat tacacgatgc aatttaggtg gtgctgtttg cagacaccat gcaaatgagt\n",
    "    19441 accgacagta cttggatgca tataatatga tgatttctgc tggatttagc ctatggattt\n",
    "    19501 acaaacaatt tgatacttat aacctgtgga atacatttac caggttacag agtttagaaa\n",
    "    19561 atgtggctta taatgttgtt aataaaggac actttgatgg acacgccggc gaagcacctg\n",
    "    19621 tttccatcat taataatgct gtttacacaa aggtagatgg tattgatgtg gagatctttg\n",
    "    19681 aaaataagac aacacttcct gttaatgttg catttgagct ttgggctaag cgtaacatta\n",
    "    19741 aaccagtgcc agagattaag atactcaata atttgggtgt tgatatcgct gctaatactg\n",
    "    19801 taatctggga ctacaaaaga gaagccccag cacatgtatc tacaataggt gtctgcacaa\n",
    "    19861 tgactgacat tgccaagaaa cctactgaga gtgcttgttc ttcacttact gtcttgtttg\n",
    "    19921 atggtagagt ggaaggacag gtagaccttt ttagaaacgc ccgtaatggt gttttaataa\n",
    "    19981 cagaaggttc agtcaaaggt ctaacacctt caaagggacc agcacaagct agcgtcaatg\n",
    "    20041 gagtcacatt aattggagaa tcagtaaaaa cacagtttaa ctactttaag aaagtagacg\n",
    "    20101 gcattattca acagttgcct gaaacctact ttactcagag cagagactta gaggatttta\n",
    "    20161 agcccagatc acaaatggaa actgactttc tcgagctcgc tatggatgaa ttcatacagc\n",
    "    20221 gatataagct cgagggctat gccttcgaac acatcgttta tggagatttc agtcatggac\n",
    "    20281 aacttggcgg tcttcattta atgataggct tagccaagcg ctcacaagat tcaccactta\n",
    "    20341 aattagagga ttttatccct atggacagca cagtgaaaaa ttacttcata acagatgcgc\n",
    "    20401 aaacaggttc atcaaaatgt gtgtgttctg tgattgatct tttacttgat gactttgtcg\n",
    "    20461 agataataaa gtcacaagat ttgtcagtga tttcaaaagt ggtcaaggtt acaattgact\n",
    "    20521 atgctgaaat ttcattcatg ctttggtgta aggatggaca tgttgaaacc ttctacccaa\n",
    "    20581 aactacaagc aagtcaagcg tggcaaccag gtgttgcgat gcctaacttg tacaagatgc\n",
    "    20641 aaagaatgct tcttgaaaag tgtgaccttc agaattatgg tgaaaatgct gttataccaa\n",
    "    20701 aaggaataat gatgaatgtc gcaaagtata ctcaactgtg tcaatactta aatacactta\n",
    "    20761 ctttagctgt accctacaac atgagagtta ttcactttgg tgctggctct gataaaggag\n",
    "    20821 ttgcaccagg tacagctgtg ctcagacaat ggttgccaac tggcacacta cttgtcgatt\n",
    "    20881 cagatcttaa tgacttcgtc tccgacgcag attctacttt aattggagac tgtgcaacag\n",
    "    20941 tacatacggc taataaatgg gaccttatta ttagcgatat gtatgaccct aggaccaaac\n",
    "    21001 atgtgacaaa agagaatgac tctaaagaag ggtttttcac ttatctgtgt ggatttataa\n",
    "    21061 agcaaaaact agccctgggt ggttctatag ctgtaaagat aacagagcat tcttggaatg\n",
    "    21121 ctgaccttta caagcttatg ggccatttct catggtggac agcttttgtt acaaatgtaa\n",
    "    21181 atgcatcatc atcggaagca tttttaattg gggctaacta tcttggcaag ccgaaggaac\n",
    "    21241 aaattgatgg ctataccatg catgctaact acattttctg gaggaacaca aatcctatcc\n",
    "    21301 agttgtcttc ctattcactc tttgacatga gcaaatttcc tcttaaatta agaggaactg\n",
    "    21361 ctgtaatgtc tcttaaggag aatcaaatca atgatatgat ttattctctt ctggaaaaag\n",
    "    21421 gtaggcttat cattagagaa aacaacagag ttgtggtttc aagtgatatt cttgttaaca\n",
    "    21481 actaaacgaa catgtttatt ttcttattat ttcttactct cactagtggt agtgaccttg\n",
    "    21541 accggtgcac cacttttgat gatgttcaag ctcctaatta cactcaacat acttcatcta\n",
    "    21601 tgaggggggt ttactatcct gatgaaattt ttagatcaga cactctttat ttaactcagg\n",
    "    21661 atttatttct tccattttat tctaatgtta cagggtttca tactattaat catacgtttg\n",
    "    21721 gcaaccctgt catacctttt aaggatggta tttattttgc tgccacagag aaatcaaatg\n",
    "    21781 ttgtccgtgg ttgggttttt ggttctacca tgaacaacaa gtcacagtcg gtgattatta\n",
    "    21841 ttaacaattc tactaatgtt gttatacgag catgtaactt tgaattgtgt gacaaccctt\n",
    "    21901 tctttgctgt ttctaaaccc atgggtacac agacacatac tatgatattc gataatgcat\n",
    "    21961 ttaattgcac tttcgagtac atatctgatg ccttttcgct tgatgtttca gaaaagtcag\n",
    "    22021 gtaattttaa acacttacga gagtttgtgt ttaaaaataa agatgggttt ctctatgttt\n",
    "    22081 ataagggcta tcaacctata gatgtagttc gtgatctacc ttctggtttt aacactttga\n",
    "    22141 aacctatttt taagttgcct cttggtatta acattacaaa ttttagagcc attcttacag\n",
    "    22201 ccttttcacc tgctcaagac atttggggca cgtcagctgc agcctatttt gttggctatt\n",
    "    22261 taaagccaac tacatttatg ctcaagtatg atgaaaatgg tacaatcaca gatgctgttg\n",
    "    22321 attgttctca aaatccactt gctgaactca aatgctctgt taagagcttt gagattgaca\n",
    "    22381 aaggaattta ccagacctct aatttcaggg ttgttccctc aggagatgtt gtgagattcc\n",
    "    22441 ctaatattac aaacttgtgt ccttttggag aggtttttaa tgctactaaa ttcccttctg\n",
    "    22501 tctatgcatg ggagagaaaa aaaatttcta attgtgttgc tgattactct gtgctctaca\n",
    "    22561 actcaacatt tttttcaacc tttaagtgct atggcgtttc tgccactaag ttgaatgatc\n",
    "    22621 tttgcttctc caatgtctat gcagattctt ttgtagtcaa gggagatgat gtaagacaaa\n",
    "    22681 tagcgccagg acaaactggt gttattgctg attataatta taaattgcca gatgatttca\n",
    "    22741 tgggttgtgt ccttgcttgg aatactagga acattgatgc tacttcaact ggtaattata\n",
    "    22801 attataaata taggtatctt agacatggca agcttaggcc ctttgagaga gacatatcta\n",
    "    22861 atgtgccttt ctcccctgat ggcaaacctt gcaccccacc tgctcttaat tgttattggc\n",
    "    22921 cattaaatga ttatggtttt tacaccacta ctggcattgg ctaccaacct tacagagttg\n",
    "    22981 tagtactttc ttttgaactt ttaaatgcac cggccacggt ttgtggacca aaattatcca\n",
    "    23041 ctgaccttat taagaaccag tgtgtcaatt ttaattttaa tggactcact ggtactggtg\n",
    "    23101 tgttaactcc ttcttcaaag agatttcaac catttcaaca atttggccgt gatgtttctg\n",
    "    23161 atttcactga ttccgttcga gatcctaaaa catctgaaat attagacatt tcaccttgcg\n",
    "    23221 cttttggggg tgtaagtgta attacacctg gaacaaatgc ttcatctgaa gttgctgttc\n",
    "    23281 tatatcaaga tgttaactgc actgatgttt ctacagcaat tcatgcagat caactcacac\n",
    "    23341 cagcttggcg catatattct actggaaaca atgtattcca gactcaagca ggctgtctta\n",
    "    23401 taggagctga gcatgtcgac acttcttatg agtgcgacat tcctattgga gctggcattt\n",
    "    23461 gtgctagtta ccatacagtt tctttattac gtagtactag ccaaaaatct attgtggctt\n",
    "    23521 atactatgtc tttaggtgct gatagttcaa ttgcttactc taataacacc attgctatac\n",
    "    23581 ctactaactt ttcaattagc attactacag aagtaatgcc tgtttctatg gctaaaacct\n",
    "    23641 ccgtagattg taatatgtac atctgcggag attctactga atgtgctaat ttgcttctcc\n",
    "    23701 aatatggtag cttttgcaca caactaaatc gtgcactctc aggtattgct gctgaacagg\n",
    "    23761 atcgcaacac acgtgaagtg ttcgctcaag tcaaacaaat gtacaaaacc ccaactttga\n",
    "    23821 aatattttgg tggttttaat ttttcacaaa tattacctga ccctctaaag ccaactaaga\n",
    "    23881 ggtcttttat tgaggacttg ctctttaata aggtgacact cgctgatgct ggcttcatga\n",
    "    23941 agcaatatgg cgaatgccta ggtgatatta atgctagaga tctcatttgt gcgcagaagt\n",
    "    24001 tcaatggact tacagtgttg ccacctctgc tcactgatga tatgattgct gcctacactg\n",
    "    24061 ctgctctagt tagtggtact gccactgctg gatggacatt tggtgctggc gctgctcttc\n",
    "    24121 aaataccttt tgctatgcaa atggcatata ggttcaatgg cattggagtt acccaaaatg\n",
    "    24181 ttctctatga gaaccaaaaa caaatcgcca accaatttaa caaggcgatt agtcaaattc\n",
    "    24241 aagaatcact tacaacaaca tcaactgcat tgggcaagct gcaagacgtt gttaaccaga\n",
    "    24301 atgctcaagc attaaacaca cttgttaaac aacttagctc taattttggt gcaatttcaa\n",
    "    24361 gtgtgctaaa tgatatcctt tcgcgacttg ataaagtcga ggcggaggta caaattgaca\n",
    "    24421 ggttaattac aggcagactt caaagccttc aaacctatgt aacacaacaa ctaatcaggg\n",
    "    24481 ctgctgaaat cagggcttct gctaatcttg ctgctactaa aatgtctgag tgtgttcttg\n",
    "    24541 gacaatcaaa aagagttgac ttttgtggaa agggctacca ccttatgtcc ttcccacaag\n",
    "    24601 cagccccgca tggtgttgtc ttcctacatg tcacgtatgt gccatcccag gagaggaact\n",
    "    24661 tcaccacagc gccagcaatt tgtcatgaag gcaaagcata cttccctcgt gaaggtgttt\n",
    "    24721 ttgtgtttaa tggcacttct tggtttatta cacagaggaa cttcttttct ccacaaataa\n",
    "    24781 ttactacaga caatacattt gtctcaggaa attgtgatgt cgttattggc atcattaaca\n",
    "    24841 acacagttta tgatcctctg caacctgagc ttgactcatt caaagaagag ctggacaagt\n",
    "    24901 acttcaaaaa tcatacatca ccagatgttg atcttggcga catttcaggc attaacgctt\n",
    "    24961 ctgtcgtcaa cattcaaaaa gaaattgacc gcctcaatga ggtcgctaaa aatttaaatg\n",
    "    25021 aatcactcat tgaccttcaa gaattgggaa aatatgagca atatattaaa tggccttggt\n",
    "    25081 atgtttggct cggcttcatt gctggactaa ttgccatcgt catggttaca atcttgcttt\n",
    "    25141 gttgcatgac tagttgttgc agttgcctca agggtgcatg ctcttgtggt tcttgctgca\n",
    "    25201 agtttgatga ggatgactct gagccagttc tcaagggtgt caaattacat tacacataaa\n",
    "    25261 cgaacttatg gatttgttta tgagattttt tactcttaga tcaattactg cacagccagt\n",
    "    25321 aaaaattgac aatgcttctc ctgcaagtac tgttcatgct acagcaacga taccgctaca\n",
    "    25381 agcctcactc cctttcggat ggcttgttat tggcgttgca tttcttgctg tttttcagag\n",
    "    25441 cgctaccaaa ataattgcgc tcaataaaag atggcagcta gccctttata agggcttcca\n",
    "    25501 gttcatttgc aatttactgc tgctatttgt taccatctat tcacatcttt tgcttgtcgc\n",
    "    25561 tgcaggtatg gaggcgcaat ttttgtacct ctatgccttg atatattttc tacaatgcat\n",
    "    25621 caacgcatgt agaattatta tgagatgttg gctttgttgg aagtgcaaat ccaagaaccc\n",
    "    25681 attactttat gatgccaact actttgtttg ctggcacaca cataactatg actactgtat\n",
    "    25741 accatataac agtgtcacag atacaattgt cgttactgaa ggtgacggca tttcaacacc\n",
    "    25801 aaaactcaaa gaagactacc aaattggtgg ttattctgag gataggcact caggtgttaa\n",
    "    25861 agactatgtc gttgtacatg gctatttcac cgaagtttac taccagcttg agtctacaca\n",
    "    25921 aattactaca gacactggta ttgaaaatgc tacattcttc atctttaaca agcttgttaa\n",
    "    25981 agacccaccg aatgtgcaaa tacacacaat cgacggctct tcaggagttg ctaatccagc\n",
    "    26041 aatggatcca atttatgatg agccgacgac gactactagc gtgcctttgt aagcacaaga\n",
    "    26101 aagtgagtac gaacttatgt actcattcgt ttcggaagaa acaggtacgt taatagttaa\n",
    "    26161 tagcgtactt ctttttcttg ctttcgtggt attcttgcta gtcacactag ccatccttac\n",
    "    26221 tgcgcttcga ttgtgtgcgt actgctgcaa tattgttaac gtgagtttag taaaaccaac\n",
    "    26281 ggtttacgtc tactcgcgtg ttaaaaatct gaactcttct gaaggagttc ctgatcttct\n",
    "    26341 ggtctaaacg aactaactat tattattatt ctgtttggaa ctttaacatt gcttatcatg\n",
    "    26401 gcagacaacg gtactattac cgttgaggag cttaaacaac tcctggaaca atggaaccta\n",
    "    26461 gtaataggtt tcctattcct agcctggatt atgttactac aatttgccta ttctaatcgg\n",
    "    26521 aacaggtttt tgtacataat aaagcttgtt ttcctctggc tcttgtggcc agtaacactt\n",
    "    26581 gcttgttttg tgcttgctgc tgtctacaga attaattggg tgactggcgg gattgcgatt\n",
    "    26641 gcaatggctt gtattgtagg cttgatgtgg cttagctact tcgttgcttc cttcaggctg\n",
    "    26701 tttgctcgta cccgctcaat gtggtcattc aacccagaaa caaacattct tctcaatgtg\n",
    "    26761 cctctccggg ggacaattgt gaccagaccg ctcatggaaa gtgaacttgt cattggtgct\n",
    "    26821 gtgatcattc gtggtcactt gcgaatggcc ggacactccc tagggcgctg tgacattaag\n",
    "    26881 gacctgccaa aagagatcac tgtggctaca tcacgaacgc tttcttatta caaattagga\n",
    "    26941 gcgtcgcagc gtgtaggcac tgattcaggt tttgctgcat acaaccgcta ccgtattgga\n",
    "    27001 aactataaat taaatacaga ccacgccggt agcaacgaca atattgcttt gctagtacag\n",
    "    27061 taagtgacaa cagatgtttc atcttgttga cttccaggtt acaatagcag agatattgat\n",
    "    27121 tatcattatg aggactttca ggattgctat ttggaatctt gacgttataa taagttcaat\n",
    "    27181 agtgagacaa ttatttaagc ctctaactaa gaagaattat tcggagttag atgatgaaga\n",
    "    27241 acctatggag ttagattatc cataaaacga acatgaaaat tattctcttc ctgacattga\n",
    "    27301 ttgtatttac atcttgcgag ctatatcact atcaggagtg tgttagaggt acgactgtac\n",
    "    27361 tactaaaaga accttgccca tcaggaacat acgagggcaa ttcaccattt caccctcttg\n",
    "    27421 ctgacaataa atttgcacta acttgcacta gcacacactt tgcttttgct tgtgctgacg\n",
    "    27481 gtactcgaca tacctatcag ctgcgtgcaa gatcagtttc accaaaactt ttcatcagac\n",
    "    27541 aagaggaggt tcaacaagag ctctactcgc cactttttct cattgttgct gctctagtat\n",
    "    27601 ttttaatact ttgcttcacc attaagagaa agacagaatg aatgagctca ctttaattga\n",
    "    27661 cttctatttg tgctttttag cctttctgct attccttgtt ttaataatgc ttattatatt\n",
    "    27721 ttggttttca ctcgaaatcc aggatctaga agaaccttgt accaaagtct aaacgaacat\n",
    "    27781 gaaacttctc attgttttga cttgtatttc tctatgcagt tgcatatgca ctgtagtaca\n",
    "    27841 gcgctgtgca tctaataaac ctcatgtgct tgaagatcct tgtaaggtac aacactaggg\n",
    "    27901 gtaatactta tagcactgct tggctttgtg ctctaggaaa ggttttacct tttcatagat\n",
    "    27961 ggcacactat ggttcaaaca tgcacaccta atgttactat caactgtcaa gatccagctg\n",
    "    28021 gtggtgcgct tatagctagg tgttggtacc ttcatgaagg tcaccaaact gctgcattta\n",
    "    28081 gagacgtact tgttgtttta aataaacgaa caaattaaaa tgtctgataa tggaccccaa\n",
    "    28141 tcaaaccaac gtagtgcccc ccgcattaca tttggtggac ccacagattc aactgacaat\n",
    "    28201 aaccagaatg gaggacgcaa tggggcaagg ccaaaacagc gccgacccca aggtttaccc\n",
    "    28261 aataatactg cgtcttggtt cacagctctc actcagcatg gcaaggagga acttagattc\n",
    "    28321 cctcgaggcc agggcgttcc aatcaacacc aatagtggtc cagatgacca aattggctac\n",
    "    28381 taccgaagag ctacccgacg agttcgtggt ggtgacggca aaatgaaaga gctcagcccc\n",
    "    28441 agatggtact tctattacct aggaactggc ccagaagctt cacttcccta cggcgctaac\n",
    "    28501 aaagaaggca tcgtatgggt tgcaactgag ggagccttga atacacccaa agaccacatt\n",
    "    28561 ggcacccgca atcctaataa caatgctgcc accgtgctac aacttcctca aggaacaaca\n",
    "    28621 ttgccaaaag gcttctacgc agagggaagc agaggcggca gtcaagcctc ttctcgctcc\n",
    "    28681 tcatcacgta gtcgcggtaa ttcaagaaat tcaactcctg gcagcagtag gggaaattct\n",
    "    28741 cctgctcgaa tggctagcgg aggtggtgaa actgccctcg cgctattgct gctagacaga\n",
    "    28801 ttgaaccagc ttgagagcaa agtttctggt aaaggccaac aacaacaagg ccaaactgtc\n",
    "    28861 actaagaaat ctgctgctga ggcatctaaa aagcctcgcc aaaaacgtac tgccacaaaa\n",
    "    28921 cagtacaacg tcactcaagc atttgggaga cgtggtccag aacaaaccca aggaaatttc\n",
    "    28981 ggggaccaag acctaatcag acaaggaact gattacaaac attggccgca aattgcacaa\n",
    "    29041 tttgctccaa gtgcctctgc attctttgga atgtcacgca ttggcatgga agtcacacct\n",
    "    29101 tcgggaacat ggctgactta tcatggagcc attaaattgg atgacaaaga tccacaattc\n",
    "    29161 aaagacaacg tcatactgct gaacaagcac attgacgcat acaaaacatt cccaccaaca\n",
    "    29221 gagcctaaaa aggacaaaaa gaaaaagact gatgaagctc agcctttgcc gcagagacaa\n",
    "    29281 aagaagcagc ccactgtgac tcttcttcct gcggctgaca tggatgattt ctccagacaa\n",
    "    29341 cttcaaaatt ccatgagtgg agcttctgct gattcaactc aggcataaac actcatgatg\n",
    "    29401 accacacaag gcagatgggc tatgtaaacg ttttcgcaat tccgtttacg atacatagtc\n",
    "    29461 tactcttgtg cagaatgaat tctcgtaact aaacagcaca agtaggttta gttaacttta\n",
    "    29521 atctcacata gcaatcttta atcaatgtgt aacattaggg aggacttgaa agagccacca\n",
    "    29581 cattttcatc gaggccacgc ggagtacgat cgagggtaca gtgaataatg ctagggagag\n",
    "    29641 ctgcctatat ggaagagccc taatgtgtaa aattaatttt agtagtgcta tccccatgtg\n",
    "    29701 attttaatag cttcttagga gaatgacaaa aaaaaaaaaa aaaaaaaaaa a\"\"\""
   ]
  },
  {
   "cell_type": "code",
   "execution_count": 28,
   "metadata": {},
   "outputs": [],
   "source": [
    "for s in \"\\n01234567789 \":\n",
    "    old_corona = old_corona.replace(s, \"\")"
   ]
  },
  {
   "cell_type": "code",
   "execution_count": 29,
   "metadata": {},
   "outputs": [
    {
     "data": {
      "text/plain": [
       "8412"
      ]
     },
     "execution_count": 29,
     "metadata": {},
     "output_type": "execute_result"
    }
   ],
   "source": [
    "import lzma\n",
    "lzc_v1 = lzma.compress(old_corona.encode(\"utf-8\"))\n",
    "len(lzc_v1)"
   ]
  },
  {
   "cell_type": "code",
   "execution_count": 30,
   "metadata": {},
   "outputs": [
    {
     "data": {
      "text/plain": [
       "4"
      ]
     },
     "execution_count": 30,
     "metadata": {},
     "output_type": "execute_result"
    }
   ],
   "source": [
    "len(lzc_v1) - len(lzc)"
   ]
  },
  {
   "cell_type": "markdown",
   "metadata": {},
   "source": [
    "By looking at the kolmogorov complexity of the old coronavirus, you can comment that both coronaviruses differ by about 4 bytes of information. But here is the reality:\n",
    "\n",
    "(Since my PC hangs in executing the following command, I am posting the screenshot of it which I executed on google colab.)\n",
    "\n",
    "![](./images/edit-distance.png)\n",
    "\n",
    "And here is what happens when you compare the lengths:"
   ]
  },
  {
   "cell_type": "code",
   "execution_count": 31,
   "metadata": {},
   "outputs": [
    {
     "data": {
      "text/plain": [
       "152"
      ]
     },
     "execution_count": 31,
     "metadata": {},
     "output_type": "execute_result"
    }
   ],
   "source": [
    "len(corona) - len(old_corona)"
   ]
  },
  {
   "cell_type": "markdown",
   "metadata": {},
   "source": [
    "From this, we can see that - Novel coronavirus differ alot than expected from old coronavirus. Now that we know - the difference between two DNAs/RNAs is measured by calculating edit-distance, we can now just simply complete extracting other proteins. "
   ]
  },
  {
   "cell_type": "code",
   "execution_count": 32,
   "metadata": {},
   "outputs": [],
   "source": [
    "# https://www.ncbi.nlm.nih.gov/gene/43740570 - Envelope protein in Cov-2\n",
    "envelope_v2 = translation(corona[26244:26472], True)"
   ]
  },
  {
   "cell_type": "code",
   "execution_count": 33,
   "metadata": {},
   "outputs": [
    {
     "data": {
      "text/plain": [
       "75"
      ]
     },
     "execution_count": 33,
     "metadata": {},
     "output_type": "execute_result"
    }
   ],
   "source": [
    "len(envelope_v2)"
   ]
  },
  {
   "cell_type": "code",
   "execution_count": 34,
   "metadata": {},
   "outputs": [],
   "source": [
    "# https://www.ncbi.nlm.nih.gov/gene/43740571 - Membrane Glycoprotein in Cov-2\n",
    "membrane_v2 = translation(corona[26522:27191], True)"
   ]
  },
  {
   "cell_type": "code",
   "execution_count": 35,
   "metadata": {},
   "outputs": [
    {
     "data": {
      "text/plain": [
       "222"
      ]
     },
     "execution_count": 35,
     "metadata": {},
     "output_type": "execute_result"
    }
   ],
   "source": [
    "len(membrane_v2)"
   ]
  },
  {
   "cell_type": "code",
   "execution_count": 36,
   "metadata": {},
   "outputs": [],
   "source": [
    "# https://www.ncbi.nlm.nih.gov/gene/43740572 - Orf6 in Cov-2\n",
    "orf6_v2 = translation(corona[27201:27387], True)"
   ]
  },
  {
   "cell_type": "code",
   "execution_count": 37,
   "metadata": {},
   "outputs": [
    {
     "data": {
      "text/plain": [
       "61"
      ]
     },
     "execution_count": 37,
     "metadata": {},
     "output_type": "execute_result"
    }
   ],
   "source": [
    "len(orf6_v2)"
   ]
  },
  {
   "cell_type": "code",
   "execution_count": 38,
   "metadata": {},
   "outputs": [],
   "source": [
    "# https://www.ncbi.nlm.nih.gov/gene/43740573 - orf7a in Cov-2\n",
    "orf7a = translation(corona[27393:27759], True)"
   ]
  },
  {
   "cell_type": "code",
   "execution_count": 39,
   "metadata": {},
   "outputs": [
    {
     "data": {
      "text/plain": [
       "121"
      ]
     },
     "execution_count": 39,
     "metadata": {},
     "output_type": "execute_result"
    }
   ],
   "source": [
    "len(orf7a)"
   ]
  },
  {
   "cell_type": "code",
   "execution_count": 40,
   "metadata": {},
   "outputs": [],
   "source": [
    "# https://www.ncbi.nlm.nih.gov/gene/43740574 - orf7b in Cov-2\n",
    "orf7b = translation(corona[27755:27887], True)"
   ]
  },
  {
   "cell_type": "code",
   "execution_count": 42,
   "metadata": {},
   "outputs": [
    {
     "data": {
      "text/plain": [
       "43"
      ]
     },
     "execution_count": 42,
     "metadata": {},
     "output_type": "execute_result"
    }
   ],
   "source": [
    "len(orf7b)"
   ]
  },
  {
   "cell_type": "code",
   "execution_count": 43,
   "metadata": {},
   "outputs": [],
   "source": [
    "# https://www.ncbi.nlm.nih.gov/gene/43740577 - orf8 in Cov-2\n",
    "orf8 = translation(corona[27893:28259], True)"
   ]
  },
  {
   "cell_type": "code",
   "execution_count": 44,
   "metadata": {},
   "outputs": [
    {
     "data": {
      "text/plain": [
       "121"
      ]
     },
     "execution_count": 44,
     "metadata": {},
     "output_type": "execute_result"
    }
   ],
   "source": [
    "len(orf8)"
   ]
  },
  {
   "cell_type": "code",
   "execution_count": 45,
   "metadata": {},
   "outputs": [],
   "source": [
    "# https://www.ncbi.nlm.nih.gov/gene/43740576 - orf10 in Cov-2\n",
    "orf10 = translation(corona[29557:29674], True)"
   ]
  },
  {
   "cell_type": "code",
   "execution_count": 46,
   "metadata": {},
   "outputs": [
    {
     "data": {
      "text/plain": [
       "38"
      ]
     },
     "execution_count": 46,
     "metadata": {},
     "output_type": "execute_result"
    }
   ],
   "source": [
    "len(orf10)"
   ]
  }
 ],
 "metadata": {
  "kernelspec": {
   "display_name": "Python 3.7.6 64-bit",
   "language": "python",
   "name": "python37664bit50024b5172134641a0b60b7f2924eeda"
  },
  "language_info": {
   "codemirror_mode": {
    "name": "ipython",
    "version": 3
   },
   "file_extension": ".py",
   "mimetype": "text/x-python",
   "name": "python",
   "nbconvert_exporter": "python",
   "pygments_lexer": "ipython3",
   "version": "3.7.6"
  }
 },
 "nbformat": 4,
 "nbformat_minor": 4
}
